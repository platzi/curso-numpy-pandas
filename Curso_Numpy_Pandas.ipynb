{
  "nbformat": 4,
  "nbformat_minor": 0,
  "metadata": {
    "colab": {
      "provenance": [],
      "collapsed_sections": [
        "hJftkellT_HL",
        "y_pyqw0a_071",
        "zDxxN0p_YuJV",
        "fKZ6zzGvmfpA",
        "IQmcW41MyDx4",
        "f6IWzW9PBoyI",
        "sbacxokKL6zn",
        "DD9z-gvyVPeH",
        "mJ63tV3Ccbz3",
        "R861s2E2BcTU",
        "E7-UGd80H4yw",
        "mnaDSILuTLEn",
        "HttwsTREcFot",
        "VXxEF97hj1ES",
        "YFaMmDl0xeq4"
      ]
    },
    "kernelspec": {
      "name": "python3",
      "display_name": "Python 3"
    },
    "language_info": {
      "name": "python"
    }
  },
  "cells": [
    {
      "cell_type": "markdown",
      "source": [
        "# 2 Dimensionalidades"
      ],
      "metadata": {
        "id": "hJftkellT_HL"
      }
    },
    {
      "cell_type": "code",
      "execution_count": null,
      "metadata": {
        "colab": {
          "base_uri": "https://localhost:8080/"
        },
        "id": "fWQ-R__VSRhA",
        "outputId": "08ca63f1-a00f-41e3-ba0e-59f150fa655b"
      },
      "outputs": [
        {
          "output_type": "stream",
          "name": "stdout",
          "text": [
            "<class 'numpy.ndarray'>\n",
            "42\n"
          ]
        }
      ],
      "source": [
        "import numpy as np\n",
        "escalar = np.array(42)\n",
        "print(type(escalar))\n",
        "print(escalar)"
      ]
    },
    {
      "cell_type": "code",
      "source": [
        "vector = np.array([30,29,35,31,33,36,42])\n",
        "print(vector)"
      ],
      "metadata": {
        "colab": {
          "base_uri": "https://localhost:8080/"
        },
        "id": "dHwWlY5cg4vF",
        "outputId": "93c3d5f2-c26b-49b5-c830-a6892fd08a45"
      },
      "execution_count": null,
      "outputs": [
        {
          "output_type": "stream",
          "name": "stdout",
          "text": [
            "[30 29 35 31 33 36 42]\n"
          ]
        }
      ]
    },
    {
      "cell_type": "code",
      "source": [
        "matrix = np.array([[1,2,3],[4,5,6],[7,8,9]])\n",
        "print(matrix)"
      ],
      "metadata": {
        "colab": {
          "base_uri": "https://localhost:8080/"
        },
        "id": "2q0YTODYhCSh",
        "outputId": "533790d4-e432-4748-c11a-4ba362c33a28"
      },
      "execution_count": null,
      "outputs": [
        {
          "output_type": "stream",
          "name": "stdout",
          "text": [
            "[[1 2 3]\n",
            " [4 5 6]\n",
            " [7 8 9]]\n"
          ]
        }
      ]
    },
    {
      "cell_type": "code",
      "source": [
        "tensor = np.array([[[1,2],[3,4],[5,6], [7,8]]])\n",
        "print(tensor)"
      ],
      "metadata": {
        "colab": {
          "base_uri": "https://localhost:8080/"
        },
        "id": "kuA9R4VVjfe7",
        "outputId": "4a633af2-2323-42da-8b50-34a344603a79"
      },
      "execution_count": null,
      "outputs": [
        {
          "output_type": "stream",
          "name": "stdout",
          "text": [
            "[[[1 2]\n",
            "  [3 4]\n",
            "  [5 6]\n",
            "  [7 8]]]\n"
          ]
        }
      ]
    },
    {
      "cell_type": "code",
      "source": [
        "array_arange = np.arange(10)\n",
        "print(array_arange)"
      ],
      "metadata": {
        "colab": {
          "base_uri": "https://localhost:8080/"
        },
        "id": "ZStoAPuvlrp_",
        "outputId": "0c877f0c-c2f7-4d84-c70a-055540a27d5e"
      },
      "execution_count": null,
      "outputs": [
        {
          "output_type": "stream",
          "name": "stdout",
          "text": [
            "[0 1 2 3 4 5 6 7 8 9]\n"
          ]
        }
      ]
    },
    {
      "cell_type": "code",
      "source": [
        "eye_matrix = np.eye(6)\n",
        "print(eye_matrix)"
      ],
      "metadata": {
        "colab": {
          "base_uri": "https://localhost:8080/"
        },
        "id": "6HSzCmckl6wa",
        "outputId": "66de6efe-9262-4c17-8bdd-e0047ae5d554"
      },
      "execution_count": null,
      "outputs": [
        {
          "output_type": "stream",
          "name": "stdout",
          "text": [
            "[[1. 0. 0. 0. 0. 0.]\n",
            " [0. 1. 0. 0. 0. 0.]\n",
            " [0. 0. 1. 0. 0. 0.]\n",
            " [0. 0. 0. 1. 0. 0.]\n",
            " [0. 0. 0. 0. 1. 0.]\n",
            " [0. 0. 0. 0. 0. 1.]]\n"
          ]
        }
      ]
    },
    {
      "cell_type": "code",
      "source": [
        "diag = np.diag([1,2,3,4,5,6,7])\n",
        "print(diag)"
      ],
      "metadata": {
        "colab": {
          "base_uri": "https://localhost:8080/"
        },
        "id": "jDZHIlxnmJzz",
        "outputId": "903bb958-cba0-49a9-841f-dca006f5ae44"
      },
      "execution_count": null,
      "outputs": [
        {
          "output_type": "stream",
          "name": "stdout",
          "text": [
            "[[1 0 0 0 0 0 0]\n",
            " [0 2 0 0 0 0 0]\n",
            " [0 0 3 0 0 0 0]\n",
            " [0 0 0 4 0 0 0]\n",
            " [0 0 0 0 5 0 0]\n",
            " [0 0 0 0 0 6 0]\n",
            " [0 0 0 0 0 0 7]]\n"
          ]
        }
      ]
    },
    {
      "cell_type": "code",
      "source": [
        "random = np.random.random((2,3))\n",
        "print(random)"
      ],
      "metadata": {
        "colab": {
          "base_uri": "https://localhost:8080/"
        },
        "id": "BCFbTThtmng-",
        "outputId": "af3a13a4-d0d3-423b-b14f-4aca20c61a37"
      },
      "execution_count": null,
      "outputs": [
        {
          "output_type": "stream",
          "name": "stdout",
          "text": [
            "[[0.77629614 0.62932673 0.92080471]\n",
            " [0.04501054 0.47904574 0.57064826]]\n"
          ]
        }
      ]
    },
    {
      "cell_type": "markdown",
      "source": [
        "# 3 Arrays"
      ],
      "metadata": {
        "id": "y_pyqw0a_071"
      }
    },
    {
      "cell_type": "code",
      "source": [
        "array = np.array([[1,2,3],[4,5,6]])\n",
        "print(array.ndim)\n",
        "print(array.shape)\n",
        "print(array.dtype)"
      ],
      "metadata": {
        "colab": {
          "base_uri": "https://localhost:8080/"
        },
        "id": "9eep-ytz_3pf",
        "outputId": "ab364310-1cd8-46cf-920a-f610b5ca928e"
      },
      "execution_count": null,
      "outputs": [
        {
          "output_type": "stream",
          "name": "stdout",
          "text": [
            "2\n",
            "(2, 3)\n",
            "int64\n"
          ]
        }
      ]
    },
    {
      "cell_type": "code",
      "source": [
        "z = np.array(3, dtype=np.uint8)\n",
        "print(z)"
      ],
      "metadata": {
        "colab": {
          "base_uri": "https://localhost:8080/"
        },
        "id": "MNpUDvybCgpW",
        "outputId": "d38420f1-0cc6-4a9c-c045-90e9a2e15cfb"
      },
      "execution_count": null,
      "outputs": [
        {
          "output_type": "stream",
          "name": "stdout",
          "text": [
            "3\n"
          ]
        }
      ]
    },
    {
      "cell_type": "code",
      "source": [
        "double_array = np.array([1,2,3], dtype='d')\n",
        "print(double_array)"
      ],
      "metadata": {
        "colab": {
          "base_uri": "https://localhost:8080/"
        },
        "id": "wYEU66TFDLv9",
        "outputId": "1f30bd40-f27f-4ac7-df77-837420ede10b"
      },
      "execution_count": null,
      "outputs": [
        {
          "output_type": "stream",
          "name": "stdout",
          "text": [
            "[1. 2. 3.]\n"
          ]
        }
      ]
    },
    {
      "cell_type": "code",
      "source": [
        "z = z.astype(np.float64)\n",
        "print(z)"
      ],
      "metadata": {
        "colab": {
          "base_uri": "https://localhost:8080/"
        },
        "id": "FF4ZojF9Dl7-",
        "outputId": "f5706c30-2fd0-4a44-e325-446690304d5b"
      },
      "execution_count": null,
      "outputs": [
        {
          "output_type": "stream",
          "name": "stdout",
          "text": [
            "3.0\n"
          ]
        }
      ]
    },
    {
      "cell_type": "code",
      "source": [
        "array = np.array([[1,2,3],[4,5,6]])\n",
        "add = np.sum(array)\n",
        "print(add)"
      ],
      "metadata": {
        "colab": {
          "base_uri": "https://localhost:8080/"
        },
        "id": "5vGqb4G8EOEz",
        "outputId": "6a87b94d-a85e-44c3-d36e-108ffb400838"
      },
      "execution_count": null,
      "outputs": [
        {
          "output_type": "stream",
          "name": "stdout",
          "text": [
            "21\n"
          ]
        }
      ]
    },
    {
      "cell_type": "code",
      "source": [
        "array = np.array([[1,2,3],[4,5,6]])\n",
        "sum = np.sum(array)\n",
        "print(sum)"
      ],
      "metadata": {
        "colab": {
          "base_uri": "https://localhost:8080/"
        },
        "id": "yJrVyoGuEl4G",
        "outputId": "fb681364-6733-4a1d-b795-83ca158119fc"
      },
      "execution_count": null,
      "outputs": [
        {
          "output_type": "stream",
          "name": "stdout",
          "text": [
            "21\n"
          ]
        }
      ]
    },
    {
      "cell_type": "code",
      "source": [
        "mean = np.mean(array)\n",
        "print(mean)"
      ],
      "metadata": {
        "colab": {
          "base_uri": "https://localhost:8080/"
        },
        "id": "FztRSz_FE8QX",
        "outputId": "0e17e73a-feae-444c-92ec-14818387b257"
      },
      "execution_count": null,
      "outputs": [
        {
          "output_type": "stream",
          "name": "stdout",
          "text": [
            "3.5\n"
          ]
        }
      ]
    },
    {
      "cell_type": "code",
      "source": [
        "std = np.std(array)\n",
        "print(std)"
      ],
      "metadata": {
        "colab": {
          "base_uri": "https://localhost:8080/"
        },
        "id": "C5a5R7YRFCIY",
        "outputId": "12226199-8ff5-40c0-ccd0-1affe814ce0c"
      },
      "execution_count": null,
      "outputs": [
        {
          "output_type": "stream",
          "name": "stdout",
          "text": [
            "1.707825127659933\n"
          ]
        }
      ]
    },
    {
      "cell_type": "markdown",
      "source": [
        "# 4 Indexación y Slicing"
      ],
      "metadata": {
        "id": "zDxxN0p_YuJV"
      }
    },
    {
      "cell_type": "code",
      "source": [
        "import numpy as np\n",
        "\n",
        "array = np.array([10,20,30,40,50])\n",
        "print(array[1])\n",
        "print(array[-1])"
      ],
      "metadata": {
        "colab": {
          "base_uri": "https://localhost:8080/"
        },
        "id": "dO_dx9dTY8W3",
        "outputId": "ee72652b-3861-44b8-9414-332e7647884e"
      },
      "execution_count": null,
      "outputs": [
        {
          "output_type": "stream",
          "name": "stdout",
          "text": [
            "20\n",
            "50\n"
          ]
        }
      ]
    },
    {
      "cell_type": "code",
      "source": [
        "print(array[1:4])"
      ],
      "metadata": {
        "colab": {
          "base_uri": "https://localhost:8080/"
        },
        "id": "xJORgMhNd-pc",
        "outputId": "2f40010b-fd2e-4183-a16b-f2b322d17db3"
      },
      "execution_count": null,
      "outputs": [
        {
          "output_type": "stream",
          "name": "stdout",
          "text": [
            "[20 30 40]\n"
          ]
        }
      ]
    },
    {
      "cell_type": "code",
      "source": [
        "print(array[1:7])"
      ],
      "metadata": {
        "colab": {
          "base_uri": "https://localhost:8080/"
        },
        "id": "hgYu7T8SeFPg",
        "outputId": "c3b3e7ee-e0d3-4937-8282-80021b9287eb"
      },
      "execution_count": null,
      "outputs": [
        {
          "output_type": "stream",
          "name": "stdout",
          "text": [
            "[20 30 40 50]\n"
          ]
        }
      ]
    },
    {
      "cell_type": "code",
      "source": [
        "print(array[-1:-7])"
      ],
      "metadata": {
        "colab": {
          "base_uri": "https://localhost:8080/"
        },
        "id": "HqkNLEr0eK9m",
        "outputId": "e813fdcd-58b5-46d7-ca11-0f8aa58119d4"
      },
      "execution_count": null,
      "outputs": [
        {
          "output_type": "stream",
          "name": "stdout",
          "text": [
            "[]\n"
          ]
        }
      ]
    },
    {
      "cell_type": "code",
      "source": [
        "array = np.array([10,20,30,40,50])\n",
        "bool_index = array > 25\n",
        "print(bool_index)\n",
        "print(type(bool_index))"
      ],
      "metadata": {
        "colab": {
          "base_uri": "https://localhost:8080/"
        },
        "id": "XLYWGTCQejyj",
        "outputId": "3c2972f5-65fc-4466-a1f7-d4c8132e40cc"
      },
      "execution_count": null,
      "outputs": [
        {
          "output_type": "stream",
          "name": "stdout",
          "text": [
            "[False False  True  True  True]\n",
            "<class 'numpy.ndarray'>\n"
          ]
        }
      ]
    },
    {
      "cell_type": "code",
      "source": [
        "index = [2,0,3]\n",
        "print(array[index])"
      ],
      "metadata": {
        "colab": {
          "base_uri": "https://localhost:8080/"
        },
        "id": "ZB58zavmfDcK",
        "outputId": "5d6e638e-3ca5-43af-b7ab-1decf7d449cd"
      },
      "execution_count": null,
      "outputs": [
        {
          "output_type": "stream",
          "name": "stdout",
          "text": [
            "[30 10 40]\n"
          ]
        }
      ]
    },
    {
      "cell_type": "code",
      "source": [
        "array = np.random.randint(1, 10, size=(3,3))\n",
        "print(array)\n",
        "print(array[0,1])"
      ],
      "metadata": {
        "colab": {
          "base_uri": "https://localhost:8080/"
        },
        "id": "t7tn_-rWf-93",
        "outputId": "c6a7b4b0-c198-4023-8723-1d5427728ada"
      },
      "execution_count": null,
      "outputs": [
        {
          "output_type": "stream",
          "name": "stdout",
          "text": [
            "[[8 5 1]\n",
            " [9 2 7]\n",
            " [8 3 6]]\n",
            "5\n"
          ]
        }
      ]
    },
    {
      "cell_type": "code",
      "source": [
        "print(array[:2,:2])"
      ],
      "metadata": {
        "colab": {
          "base_uri": "https://localhost:8080/"
        },
        "id": "bxO7jTXogohW",
        "outputId": "8379e80b-9e1b-4abf-c3ea-c6dd5024b8cc"
      },
      "execution_count": null,
      "outputs": [
        {
          "output_type": "stream",
          "name": "stdout",
          "text": [
            "[[8 5]\n",
            " [9 2]]\n"
          ]
        }
      ]
    },
    {
      "cell_type": "markdown",
      "source": [
        "# 5 Broadcasting"
      ],
      "metadata": {
        "id": "fKZ6zzGvmfpA"
      }
    },
    {
      "cell_type": "code",
      "source": [
        "import numpy as np\n",
        "prices = np.array([100,200,300])\n",
        "discount = np.array([0.9])\n",
        "discount_prices = prices * discount\n",
        "print(discount_prices)"
      ],
      "metadata": {
        "colab": {
          "base_uri": "https://localhost:8080/"
        },
        "id": "tkQw7C90mfJq",
        "outputId": "b1318bed-f472-4a85-dfb4-77876dc2a24d"
      },
      "execution_count": 6,
      "outputs": [
        {
          "output_type": "stream",
          "name": "stdout",
          "text": [
            "[ 90. 180. 270.]\n"
          ]
        }
      ]
    },
    {
      "cell_type": "code",
      "source": [
        "prices = np.random.randint(100,500, size=(3,3))\n",
        "discount = np.array([10,20,30])\n",
        "discount_prices = prices + discount\n",
        "print(prices)\n",
        "print(discount_prices)"
      ],
      "metadata": {
        "colab": {
          "base_uri": "https://localhost:8080/"
        },
        "id": "z7wT79pwojiO",
        "outputId": "f2a21b47-c11a-4c7a-efbf-7525046a9b38"
      },
      "execution_count": 7,
      "outputs": [
        {
          "output_type": "stream",
          "name": "stdout",
          "text": [
            "[[127 100 308]\n",
            " [458 108 493]\n",
            " [194 379 188]]\n",
            "[[137 120 338]\n",
            " [468 128 523]\n",
            " [204 399 218]]\n"
          ]
        }
      ]
    },
    {
      "cell_type": "code",
      "source": [
        "array = np.array([1,2,3,4,5])\n",
        "print(np.all(array > 9))"
      ],
      "metadata": {
        "colab": {
          "base_uri": "https://localhost:8080/"
        },
        "id": "FxRlHkNvpPSn",
        "outputId": "60b759e9-ed24-45f1-9468-5229dec1bef2"
      },
      "execution_count": 8,
      "outputs": [
        {
          "output_type": "stream",
          "name": "stdout",
          "text": [
            "False\n"
          ]
        }
      ]
    },
    {
      "cell_type": "code",
      "source": [
        "print(np.any(array > 0))"
      ],
      "metadata": {
        "colab": {
          "base_uri": "https://localhost:8080/"
        },
        "id": "y03TSXbXpe9D",
        "outputId": "4db826bd-53e6-4c2f-8520-83f10bb54434"
      },
      "execution_count": 9,
      "outputs": [
        {
          "output_type": "stream",
          "name": "stdout",
          "text": [
            "True\n"
          ]
        }
      ]
    },
    {
      "cell_type": "code",
      "source": [
        "array_a = np.array([1,2,3])\n",
        "array_b = np.array([4,5,6])\n",
        "concatenated_a = np.concatenate((array_a, array_a))\n",
        "concatenated_ab = np.concatenate((array_a, array_b))\n",
        "print(concatenated_a)\n",
        "print(concatenated_ab)"
      ],
      "metadata": {
        "colab": {
          "base_uri": "https://localhost:8080/"
        },
        "id": "_TZHE47xq5bm",
        "outputId": "38eb6256-fea2-4a39-927b-62e3002ff181"
      },
      "execution_count": 10,
      "outputs": [
        {
          "output_type": "stream",
          "name": "stdout",
          "text": [
            "[1 2 3 1 2 3]\n",
            "[1 2 3 4 5 6]\n"
          ]
        }
      ]
    },
    {
      "cell_type": "code",
      "source": [
        "stacked_v = np.vstack((array_a, array_b))\n",
        "print(stacked_v)"
      ],
      "metadata": {
        "colab": {
          "base_uri": "https://localhost:8080/"
        },
        "id": "FGSSUKDbrsG5",
        "outputId": "b45a349b-5af1-4413-c829-2a10b45d9878"
      },
      "execution_count": 11,
      "outputs": [
        {
          "output_type": "stream",
          "name": "stdout",
          "text": [
            "[[1 2 3]\n",
            " [4 5 6]]\n"
          ]
        }
      ]
    },
    {
      "cell_type": "code",
      "source": [
        "satecked_h = np.hstack((array_a, array_b))\n",
        "print(satecked_h)"
      ],
      "metadata": {
        "colab": {
          "base_uri": "https://localhost:8080/"
        },
        "id": "tXE73CyCr4hF",
        "outputId": "ae73c360-611f-4c7c-944a-942b1b3889e5"
      },
      "execution_count": 12,
      "outputs": [
        {
          "output_type": "stream",
          "name": "stdout",
          "text": [
            "[1 2 3 4 5 6]\n"
          ]
        }
      ]
    },
    {
      "cell_type": "code",
      "source": [
        "array_c = np.arange(1,10)\n",
        "split_array = np.split(array,5)\n",
        "print(array)\n",
        "print(split_array)"
      ],
      "metadata": {
        "colab": {
          "base_uri": "https://localhost:8080/"
        },
        "id": "8zGbhZVts4zW",
        "outputId": "546c8c28-553f-4491-f3cc-35425d161e71"
      },
      "execution_count": 14,
      "outputs": [
        {
          "output_type": "stream",
          "name": "stdout",
          "text": [
            "[1 2 3 4 5]\n",
            "[array([1]), array([2]), array([3]), array([4]), array([5])]\n"
          ]
        }
      ]
    },
    {
      "cell_type": "markdown",
      "source": [
        "# 6 Unique & Count"
      ],
      "metadata": {
        "id": "IQmcW41MyDx4"
      }
    },
    {
      "cell_type": "code",
      "source": [
        "survey_responses = np.array([\"bueno\", \"excelente\", \"malo\",\n",
        "                             \"bueno\", \"malo\", \"excelente\",\n",
        "                             \"bueno\", \"bueno\", \"malo\",\n",
        "                             \"excelente\"])\n",
        "print(np.unique(survey_responses))"
      ],
      "metadata": {
        "colab": {
          "base_uri": "https://localhost:8080/"
        },
        "id": "-jbfDUwy0P5x",
        "outputId": "f7c2ebc2-03ae-4943-ef95-9b883f194f0c"
      },
      "execution_count": null,
      "outputs": [
        {
          "output_type": "stream",
          "name": "stdout",
          "text": [
            "['bueno' 'excelente' 'malo']\n"
          ]
        }
      ]
    },
    {
      "cell_type": "code",
      "source": [
        "unique_elements, counts = np.unique(survey_responses, return_counts=True)\n",
        "print(unique_elements)\n",
        "print(counts)"
      ],
      "metadata": {
        "colab": {
          "base_uri": "https://localhost:8080/"
        },
        "id": "zHqtwN2J8vGO",
        "outputId": "d6c0a5ed-736a-4d53-a3c5-47b20a611500"
      },
      "execution_count": null,
      "outputs": [
        {
          "output_type": "stream",
          "name": "stdout",
          "text": [
            "['bueno' 'excelente' 'malo']\n",
            "[4 5 3]\n"
          ]
        }
      ]
    },
    {
      "cell_type": "code",
      "source": [
        "array_x = np.arange(10)\n",
        "view_y = array_x[1:3]\n",
        "print(array_x)\n",
        "print(view_y)\n",
        "array_x[1:3] = [10,11]\n",
        "print(array_x)\n",
        "print(view_y)"
      ],
      "metadata": {
        "colab": {
          "base_uri": "https://localhost:8080/"
        },
        "id": "09Wt5upj9eAE",
        "outputId": "b6d2b23e-b412-4e09-8f52-037cd6f898cd"
      },
      "execution_count": null,
      "outputs": [
        {
          "output_type": "stream",
          "name": "stdout",
          "text": [
            "[0 1 2 3 4 5 6 7 8 9]\n",
            "[1 2]\n",
            "[ 0 10 11  3  4  5  6  7  8  9]\n",
            "[10 11]\n"
          ]
        }
      ]
    },
    {
      "cell_type": "code",
      "source": [
        "array_x = np.arange(10)\n",
        "copy_x = array_x[[1,2]]\n",
        "print(array_x)\n",
        "print(copy_x)\n",
        "array_x[1:3] = [10,11]\n",
        "print(array_x)\n",
        "print(copy_x)"
      ],
      "metadata": {
        "colab": {
          "base_uri": "https://localhost:8080/"
        },
        "id": "awy7XoZt_JKZ",
        "outputId": "7e71f7e2-0b55-450d-9001-2acf9ac99633"
      },
      "execution_count": null,
      "outputs": [
        {
          "output_type": "stream",
          "name": "stdout",
          "text": [
            "[0 1 2 3 4 5 6 7 8 9]\n",
            "[1 2]\n",
            "[ 0 10 11  3  4  5  6  7  8  9]\n",
            "[1 2]\n"
          ]
        }
      ]
    },
    {
      "cell_type": "markdown",
      "source": [
        "# 7 Transformación de Arrays"
      ],
      "metadata": {
        "id": "f6IWzW9PBoyI"
      }
    },
    {
      "cell_type": "code",
      "source": [
        "matrix = np.array([[1,2,3],[4,5,6],[7,8,9]])\n",
        "transposed_matrix = matrix.T\n",
        "print(matrix)\n",
        "print(transposed_matrix)"
      ],
      "metadata": {
        "colab": {
          "base_uri": "https://localhost:8080/"
        },
        "id": "xW0IC_o7A6XN",
        "outputId": "bdc3d5dd-7d96-482b-e2d4-b244330b8d94"
      },
      "execution_count": null,
      "outputs": [
        {
          "output_type": "stream",
          "name": "stdout",
          "text": [
            "[[1 2 3]\n",
            " [4 5 6]\n",
            " [7 8 9]]\n",
            "[[1 4 7]\n",
            " [2 5 8]\n",
            " [3 6 9]]\n"
          ]
        }
      ]
    },
    {
      "cell_type": "code",
      "source": [
        "array = np.arange(1,13)\n",
        "reshaped_array = array.reshape(3,4)\n",
        "print(array)\n",
        "print(reshaped_array)"
      ],
      "metadata": {
        "colab": {
          "base_uri": "https://localhost:8080/"
        },
        "id": "E_S_o3WLF8xW",
        "outputId": "3c4859c1-1b6e-4ccc-908e-7b2eb4f2eae3"
      },
      "execution_count": null,
      "outputs": [
        {
          "output_type": "stream",
          "name": "stdout",
          "text": [
            "[ 1  2  3  4  5  6  7  8  9 10 11 12]\n",
            "[[ 1  2  3  4]\n",
            " [ 5  6  7  8]\n",
            " [ 9 10 11 12]]\n"
          ]
        }
      ]
    },
    {
      "cell_type": "code",
      "source": [
        "reversed_array = array[::-1]\n",
        "print(array)\n",
        "print(reversed_array )"
      ],
      "metadata": {
        "colab": {
          "base_uri": "https://localhost:8080/"
        },
        "id": "5Ziv7pbDHbYM",
        "outputId": "de81cf6e-ecde-4ae3-b2e9-720ce5252a64"
      },
      "execution_count": null,
      "outputs": [
        {
          "output_type": "stream",
          "name": "stdout",
          "text": [
            "[ 1  2  3  4  5  6  7  8  9 10 11 12]\n",
            "[12 11 10  9  8  7  6  5  4  3  2  1]\n"
          ]
        }
      ]
    },
    {
      "cell_type": "code",
      "source": [
        "matrix = np.array([[1,2,3],[4,5,6],[7,8,9]])\n",
        "flattened_array = matrix.flatten()\n",
        "print(matrix)\n",
        "print(flattened_array)"
      ],
      "metadata": {
        "colab": {
          "base_uri": "https://localhost:8080/"
        },
        "id": "ymz9wOQxIjAH",
        "outputId": "d1b5c04a-182f-4be5-bfb5-152c5f7a6786"
      },
      "execution_count": null,
      "outputs": [
        {
          "output_type": "stream",
          "name": "stdout",
          "text": [
            "[[1 2 3]\n",
            " [4 5 6]\n",
            " [7 8 9]]\n",
            "[1 2 3 4 5 6 7 8 9]\n"
          ]
        }
      ]
    },
    {
      "cell_type": "markdown",
      "source": [
        "# 8 Ejercicio"
      ],
      "metadata": {
        "id": "sbacxokKL6zn"
      }
    },
    {
      "cell_type": "code",
      "source": [
        "import numpy as np\n",
        "\n",
        "# Paso 1: Crear arrays con datos de ventas mensuales\n",
        "meses = np.array(['Enero', 'Febrero', 'Marzo', 'Abril', 'Mayo', 'Junio',\n",
        "                  'Julio', 'Agosto', 'Septiembre', 'Octubre', 'Noviembre', 'Diciembre'])\n",
        "ventas_A = np.array([150, 200, 250, 300, 220, 210, 180, 190, 230, 240, 280, 300])\n",
        "ventas_B = np.array([180, 210, 230, 250, 270, 260, 240, 250, 270, 290, 310, 330])\n",
        "ventas_C = np.array([200, 220, 240, 260, 280, 300, 320, 340, 360, 380, 400, 420])"
      ],
      "metadata": {
        "id": "s3ptt3FFL3PI"
      },
      "execution_count": 18,
      "outputs": []
    },
    {
      "cell_type": "code",
      "source": [
        "# Paso 2: Transformaciones básicas con NumPy\n",
        "# Estadísticas básicas\n",
        "media_A = np.mean(ventas_A)\n",
        "suma_A = np.sum(ventas_A)\n",
        "media_B = np.mean(ventas_B)\n",
        "suma_B = np.sum(ventas_B)\n",
        "media_C = np.mean(ventas_C)\n",
        "suma_C = np.sum(ventas_C)\n",
        "\n",
        "print(f\"Media de ventas Producto A: {media_A}\")\n",
        "print(f\"Suma de ventas Producto A: {suma_A}\")\n",
        "print(f\"Media de ventas Producto B: {media_B}\")\n",
        "print(f\"Suma de ventas Producto B: {suma_B}\")\n",
        "print(f\"Media de ventas Producto C: {media_C}\")\n",
        "print(f\"Suma de ventas Producto C: {suma_C}\")\n",
        "\n",
        "# Paso 3: Manipulación y análisis de datos\n",
        "# Calcular el total de ventas por mes\n",
        "total_ventas_por_mes = ventas_A + ventas_B + ventas_C\n",
        "\n",
        "# Calcular el promedio de ventas por producto\n",
        "promedio_ventas_productos = np.array([media_A, media_B, media_C])\n",
        "\n",
        "# Identificar el mes con mayor y menor ventas\n",
        "mes_mayor_ventas = meses[np.argmax(total_ventas_por_mes)]\n",
        "mes_menor_ventas = meses[np.argmin(total_ventas_por_mes)]\n",
        "\n",
        "print(\"Total de ventas por mes:\", total_ventas_por_mes)\n",
        "print(\"Promedio de ventas por producto:\", promedio_ventas_productos)\n",
        "print(f\"Mes con mayor ventas: {mes_mayor_ventas}\")\n",
        "print(f\"Mes con menor ventas: {mes_menor_ventas}\")\n",
        "\n",
        "# Paso 4: Operaciones avanzadas con NumPy\n",
        "# Reshape y Transposición\n",
        "ventas_matrix = np.array([ventas_A, ventas_B, ventas_C])\n",
        "ventas_reshaped = ventas_matrix.reshape(3, 4, 3)\n",
        "ventas_transposed = ventas_matrix.T\n",
        "\n",
        "print(\"Ventas Matrix:\\n\", ventas_matrix)\n",
        "print(\"Ventas Reshaped (3, 4, 3):\\n\", ventas_reshaped)\n",
        "print(\"Ventas Transposed:\\n\", ventas_transposed)\n",
        "\n",
        "# Invertir arrays y aplanar matrices\n",
        "ventas_inverted = ventas_matrix[:, ::-1]\n",
        "ventas_flattened = ventas_matrix.flatten()\n",
        "\n",
        "print(\"Ventas Invertidas:\\n\", ventas_inverted)\n",
        "print(\"Ventas Aplanadas:\\n\", ventas_flattened)\n",
        "\n",
        "# Paso 5: Análisis de elementos únicos y sus conteos\n",
        "unique_ventas, counts_ventas = np.unique(ventas_flattened, return_counts=True)\n",
        "print(\"Elementos únicos en las ventas:\", unique_ventas)\n",
        "print(\"Conteos de elementos únicos en las ventas:\", counts_ventas)\n",
        "\n",
        "# Paso 6: Indexación y slicing\n",
        "# Seleccionar ventas del primer trimestre\n",
        "ventas_primer_trimestre = ventas_matrix[:, :3]\n",
        "print(\"Ventas del primer trimestre:\\n\", ventas_primer_trimestre)\n",
        "\n",
        "# Indexación booleana para seleccionar meses con ventas totales superiores a 800\n",
        "meses_altas_ventas = meses[total_ventas_por_mes > 800]\n",
        "ventas_altas = total_ventas_por_mes[total_ventas_por_mes > 800]\n",
        "print(\"Meses con ventas totales superiores a 800:\", meses_altas_ventas)\n",
        "print(\"Ventas totales superiores a 800:\", ventas_altas)\n",
        "\n",
        "# Selección avanzada\n",
        "indices = [0, 2, 4, 6, 8, 10]\n",
        "ventas_indices_seleccionados = ventas_matrix[:, indices]\n",
        "print(\"Ventas en meses seleccionados:\\n\", ventas_indices_seleccionados)\n"
      ],
      "metadata": {
        "colab": {
          "base_uri": "https://localhost:8080/"
        },
        "id": "B9CxPXkxDr8T",
        "outputId": "5ffa534b-7d27-45fe-efdf-025cdfde3de4"
      },
      "execution_count": 19,
      "outputs": [
        {
          "output_type": "stream",
          "name": "stdout",
          "text": [
            "Media de ventas Producto A: 229.16666666666666\n",
            "Suma de ventas Producto A: 2750\n",
            "Media de ventas Producto B: 257.5\n",
            "Suma de ventas Producto B: 3090\n",
            "Media de ventas Producto C: 310.0\n",
            "Suma de ventas Producto C: 3720\n",
            "Total de ventas por mes: [ 530  630  720  810  770  770  740  780  860  910  990 1050]\n",
            "Promedio de ventas por producto: [229.16666667 257.5        310.        ]\n",
            "Mes con mayor ventas: Diciembre\n",
            "Mes con menor ventas: Enero\n",
            "Ventas Matrix:\n",
            " [[150 200 250 300 220 210 180 190 230 240 280 300]\n",
            " [180 210 230 250 270 260 240 250 270 290 310 330]\n",
            " [200 220 240 260 280 300 320 340 360 380 400 420]]\n",
            "Ventas Reshaped (3, 4, 3):\n",
            " [[[150 200 250]\n",
            "  [300 220 210]\n",
            "  [180 190 230]\n",
            "  [240 280 300]]\n",
            "\n",
            " [[180 210 230]\n",
            "  [250 270 260]\n",
            "  [240 250 270]\n",
            "  [290 310 330]]\n",
            "\n",
            " [[200 220 240]\n",
            "  [260 280 300]\n",
            "  [320 340 360]\n",
            "  [380 400 420]]]\n",
            "Ventas Transposed:\n",
            " [[150 180 200]\n",
            " [200 210 220]\n",
            " [250 230 240]\n",
            " [300 250 260]\n",
            " [220 270 280]\n",
            " [210 260 300]\n",
            " [180 240 320]\n",
            " [190 250 340]\n",
            " [230 270 360]\n",
            " [240 290 380]\n",
            " [280 310 400]\n",
            " [300 330 420]]\n",
            "Ventas Invertidas:\n",
            " [[300 280 240 230 190 180 210 220 300 250 200 150]\n",
            " [330 310 290 270 250 240 260 270 250 230 210 180]\n",
            " [420 400 380 360 340 320 300 280 260 240 220 200]]\n",
            "Ventas Aplanadas:\n",
            " [150 200 250 300 220 210 180 190 230 240 280 300 180 210 230 250 270 260\n",
            " 240 250 270 290 310 330 200 220 240 260 280 300 320 340 360 380 400 420]\n",
            "Elementos únicos en las ventas: [150 180 190 200 210 220 230 240 250 260 270 280 290 300 310 320 330 340\n",
            " 360 380 400 420]\n",
            "Conteos de elementos únicos en las ventas: [1 2 1 2 2 2 2 3 3 2 2 2 1 3 1 1 1 1 1 1 1 1]\n",
            "Ventas del primer trimestre:\n",
            " [[150 200 250]\n",
            " [180 210 230]\n",
            " [200 220 240]]\n",
            "Meses con ventas totales superiores a 800: ['Abril' 'Septiembre' 'Octubre' 'Noviembre' 'Diciembre']\n",
            "Ventas totales superiores a 800: [ 810  860  910  990 1050]\n",
            "Ventas en meses seleccionados:\n",
            " [[150 250 220 180 230 280]\n",
            " [180 230 270 240 270 310]\n",
            " [200 240 280 320 360 400]]\n"
          ]
        }
      ]
    },
    {
      "cell_type": "markdown",
      "source": [
        "# 9 Cálculos Matriciales"
      ],
      "metadata": {
        "id": "DD9z-gvyVPeH"
      }
    },
    {
      "cell_type": "code",
      "source": [
        "A = np.array([[1,2],[3,4]])\n",
        "B = np.array([[5,6],[7,8]])\n",
        "\n",
        "#Suma\n",
        "sum = A + B\n",
        "print(A)\n",
        "print(B)\n",
        "print(sum)"
      ],
      "metadata": {
        "colab": {
          "base_uri": "https://localhost:8080/"
        },
        "id": "S0758eaEVVNe",
        "outputId": "4caf1081-d194-45ed-e9bd-82535907e645"
      },
      "execution_count": null,
      "outputs": [
        {
          "output_type": "stream",
          "name": "stdout",
          "text": [
            "[[1 2]\n",
            " [3 4]]\n",
            "[[5 6]\n",
            " [7 8]]\n",
            "[[ 6  8]\n",
            " [10 12]]\n"
          ]
        }
      ]
    },
    {
      "cell_type": "code",
      "source": [
        "#Multiplicación\n",
        "product = np.dot(A, B)\n",
        "print(product)"
      ],
      "metadata": {
        "colab": {
          "base_uri": "https://localhost:8080/"
        },
        "id": "7B793DAgYL5-",
        "outputId": "17a5999e-71ec-43fb-cae1-b87200f724ba"
      },
      "execution_count": null,
      "outputs": [
        {
          "output_type": "stream",
          "name": "stdout",
          "text": [
            "[[19 22]\n",
            " [43 50]]\n"
          ]
        }
      ]
    },
    {
      "cell_type": "code",
      "source": [
        "A = np.array([[1,2],[3,4]])\n",
        "det_A = np.linalg.det(A)\n",
        "inv_A = np.linalg.inv(A)\n",
        "print(A)\n",
        "print(det_A)\n",
        "print(inv_A)"
      ],
      "metadata": {
        "colab": {
          "base_uri": "https://localhost:8080/"
        },
        "id": "lDIgvq1YZlYP",
        "outputId": "7b0cee65-906d-479c-a5fe-bfdc5c604ae9"
      },
      "execution_count": null,
      "outputs": [
        {
          "output_type": "stream",
          "name": "stdout",
          "text": [
            "[[1 2]\n",
            " [3 4]]\n",
            "-2.0000000000000004\n",
            "[[-2.   1. ]\n",
            " [ 1.5 -0.5]]\n"
          ]
        }
      ]
    },
    {
      "cell_type": "code",
      "source": [
        "#Resolver Ax = b\n",
        "b = np.array([9,11])\n",
        "x = np.linalg.solve(A,b)\n",
        "print(x)"
      ],
      "metadata": {
        "colab": {
          "base_uri": "https://localhost:8080/"
        },
        "id": "X54AdRsraCmh",
        "outputId": "8c83a534-2338-4c98-efc3-0392b2b99452"
      },
      "execution_count": null,
      "outputs": [
        {
          "output_type": "stream",
          "name": "stdout",
          "text": [
            "[-7.  8.]\n"
          ]
        }
      ]
    },
    {
      "cell_type": "markdown",
      "source": [
        "# 10Guardar y visualizar"
      ],
      "metadata": {
        "id": "mJ63tV3Ccbz3"
      }
    },
    {
      "cell_type": "code",
      "source": [
        "sales = np.random.randint(100, 301, size = 12)\n",
        "print(sales)\n",
        "np.save('sales.npy', sales)"
      ],
      "metadata": {
        "colab": {
          "base_uri": "https://localhost:8080/"
        },
        "id": "oVEpzGqIcgn9",
        "outputId": "e26dff5c-16ec-45c8-8570-183fc65b4120"
      },
      "execution_count": null,
      "outputs": [
        {
          "output_type": "stream",
          "name": "stdout",
          "text": [
            "[277 163 201 267 231 278 145 300 192 190 282 248]\n"
          ]
        }
      ]
    },
    {
      "cell_type": "code",
      "source": [
        "loaded_sales = np.load('sales.npy')\n",
        "print(loaded_sales)"
      ],
      "metadata": {
        "colab": {
          "base_uri": "https://localhost:8080/"
        },
        "id": "I3n2zagTdWyW",
        "outputId": "6b21f7e3-f0ff-4c7c-c099-0763b0233cb1"
      },
      "execution_count": null,
      "outputs": [
        {
          "output_type": "stream",
          "name": "stdout",
          "text": [
            "[277 163 201 267 231 278 145 300 192 190 282 248]\n"
          ]
        }
      ]
    },
    {
      "cell_type": "code",
      "source": [
        "np.savetxt('sales.csv', sales, delimiter=',')"
      ],
      "metadata": {
        "id": "vLJ-FGI1eC16"
      },
      "execution_count": null,
      "outputs": []
    },
    {
      "cell_type": "code",
      "source": [
        "loaded_sales_csv = np.loadtxt('sales.csv', delimiter=',')\n",
        "print(loaded_sales_csv)"
      ],
      "metadata": {
        "colab": {
          "base_uri": "https://localhost:8080/"
        },
        "id": "Uhf4bonbe0D7",
        "outputId": "988f6cef-3cbe-4eea-d84b-e9c51705ba85"
      },
      "execution_count": null,
      "outputs": [
        {
          "output_type": "stream",
          "name": "stdout",
          "text": [
            "[277. 163. 201. 267. 231. 278. 145. 300. 192. 190. 282. 248.]\n"
          ]
        }
      ]
    },
    {
      "cell_type": "code",
      "source": [
        "import numpy as np\n",
        "import matplotlib.pyplot as plt\n",
        "\n",
        "months = ['January', 'February', 'March', 'April', 'May', 'June', 'July', 'August', 'September', 'October', 'November', 'December']\n",
        "\n",
        "plt.figure(figsize=(10,5))\n",
        "plt.bar(months,sales, color = 'b', label = 'Ventas generadas')\n",
        "plt.title('Ventas por mes')\n",
        "plt.xlabel('Meses')\n",
        "plt.ylabel('Ventas')\n",
        "plt.xticks(rotation = 45)\n",
        "plt.show()"
      ],
      "metadata": {
        "colab": {
          "base_uri": "https://localhost:8080/",
          "height": 537
        },
        "id": "8O7J6XGsfhoB",
        "outputId": "82b214d4-53a1-48f0-a6d5-13bf543b95ae"
      },
      "execution_count": null,
      "outputs": [
        {
          "output_type": "display_data",
          "data": {
            "text/plain": [
              "<Figure size 1000x500 with 1 Axes>"
            ],
            "image/png": "[encoded data removed]"
          },
          "metadata": {}
        }
      ]
    },
    {
      "cell_type": "markdown",
      "source": [
        "# 12 Pandas: Dataset"
      ],
      "metadata": {
        "id": "R861s2E2BcTU"
      }
    },
    {
      "cell_type": "code",
      "source": [
        "import pandas as pd\n",
        "\n",
        "path = '/content/online_retail.csv'\n",
        "retail_data = pd.read_csv(path)\n",
        "\n",
        "#Excel\n",
        "#data_excel = pd.read_excel(path)\n",
        "\n",
        "#JSON\n",
        "#data_json = pd.read_json(path)\n",
        "\n",
        "#print(type(retail_data))\n",
        "print(retail_data)"
      ],
      "metadata": {
        "colab": {
          "base_uri": "https://localhost:8080/"
        },
        "id": "E0CkOXAWBfA9",
        "outputId": "e035e31e-1a3c-4f8b-8be4-2364427a5d74"
      },
      "execution_count": 27,
      "outputs": [
        {
          "output_type": "stream",
          "name": "stdout",
          "text": [
            "       InvoiceNo StockCode                          Description  Quantity  \\\n",
            "0         536365    85123A   WHITE HANGING HEART T-LIGHT HOLDER         6   \n",
            "1         536365     71053                  WHITE METAL LANTERN         6   \n",
            "2         536365    84406B       CREAM CUPID HEARTS COAT HANGER         8   \n",
            "3         536365    84029G  KNITTED UNION FLAG HOT WATER BOTTLE         6   \n",
            "4         536365    84029E       RED WOOLLY HOTTIE WHITE HEART.         6   \n",
            "...          ...       ...                                  ...       ...   \n",
            "541904    581587     22613          PACK OF 20 SPACEBOY NAPKINS        12   \n",
            "541905    581587     22899         CHILDREN'S APRON DOLLY GIRL          6   \n",
            "541906    581587     23254        CHILDRENS CUTLERY DOLLY GIRL          4   \n",
            "541907    581587     23255      CHILDRENS CUTLERY CIRCUS PARADE         4   \n",
            "541908    581587     22138        BAKING SET 9 PIECE RETROSPOT          3   \n",
            "\n",
            "                InvoiceDate  UnitPrice  CustomerID         Country  \n",
            "0       2010-12-01 08:26:00       2.55     17850.0  United Kingdom  \n",
            "1       2010-12-01 08:26:00       3.39     17850.0  United Kingdom  \n",
            "2       2010-12-01 08:26:00       2.75     17850.0  United Kingdom  \n",
            "3       2010-12-01 08:26:00       3.39     17850.0  United Kingdom  \n",
            "4       2010-12-01 08:26:00       3.39     17850.0  United Kingdom  \n",
            "...                     ...        ...         ...             ...  \n",
            "541904  2011-12-09 12:50:00       0.85     12680.0          France  \n",
            "541905  2011-12-09 12:50:00       2.10     12680.0          France  \n",
            "541906  2011-12-09 12:50:00       4.15     12680.0          France  \n",
            "541907  2011-12-09 12:50:00       4.15     12680.0          France  \n",
            "541908  2011-12-09 12:50:00       4.95     12680.0          France  \n",
            "\n",
            "[541909 rows x 8 columns]\n"
          ]
        }
      ]
    },
    {
      "cell_type": "markdown",
      "source": [
        "# 14: Estructuras y funciones"
      ],
      "metadata": {
        "id": "E7-UGd80H4yw"
      }
    },
    {
      "cell_type": "code",
      "source": [
        "# Nombres de columnas\n",
        "columns_names = retail_data.columns\n",
        "print(columns_names)"
      ],
      "metadata": {
        "colab": {
          "base_uri": "https://localhost:8080/"
        },
        "id": "HxxdTiAIH5Lu",
        "outputId": "3463a8fd-60f3-432e-9562-21870c4acb34"
      },
      "execution_count": null,
      "outputs": [
        {
          "output_type": "stream",
          "name": "stdout",
          "text": [
            "Index(['InvoiceNo', 'StockCode', 'Description', 'Quantity', 'InvoiceDate',\n",
            "       'UnitPrice', 'CustomerID', 'Country'],\n",
            "      dtype='object')\n"
          ]
        }
      ]
    },
    {
      "cell_type": "code",
      "source": [
        "num_rows, num_columns = retail_data.shape\n",
        "print('Número de filas', num_rows)\n",
        "print('Número de columnas', num_columns)"
      ],
      "metadata": {
        "colab": {
          "base_uri": "https://localhost:8080/"
        },
        "id": "2jNOZrPYJ44k",
        "outputId": "99aff14b-97e1-4368-e165-b5c7e3e4fa13"
      },
      "execution_count": null,
      "outputs": [
        {
          "output_type": "stream",
          "name": "stdout",
          "text": [
            "Número de filas 541909\n",
            "Número de columnas 8\n"
          ]
        }
      ]
    },
    {
      "cell_type": "code",
      "source": [
        "daily_sales = retail_data['Quantity']\n",
        "print(daily_sales)\n",
        "print(daily_sales[2])"
      ],
      "metadata": {
        "colab": {
          "base_uri": "https://localhost:8080/"
        },
        "id": "MQLOJOSOMTzT",
        "outputId": "6a5ea71e-000d-47ce-8fae-2096d2cdf401"
      },
      "execution_count": null,
      "outputs": [
        {
          "output_type": "stream",
          "name": "stdout",
          "text": [
            "0          6\n",
            "1          6\n",
            "2          8\n",
            "3          6\n",
            "4          6\n",
            "          ..\n",
            "541904    12\n",
            "541905     6\n",
            "541906     4\n",
            "541907     4\n",
            "541908     3\n",
            "Name: Quantity, Length: 541909, dtype: int64\n",
            "8\n"
          ]
        }
      ]
    },
    {
      "cell_type": "code",
      "source": [
        "summary = retail_data.describe()\n",
        "print(summary)"
      ],
      "metadata": {
        "colab": {
          "base_uri": "https://localhost:8080/"
        },
        "id": "OSmlt8brMwYA",
        "outputId": "a35b476b-09a6-4da0-dca1-d6b07dc68126"
      },
      "execution_count": null,
      "outputs": [
        {
          "output_type": "stream",
          "name": "stdout",
          "text": [
            "            Quantity      UnitPrice     CustomerID\n",
            "count  541909.000000  541909.000000  406829.000000\n",
            "mean        9.552250       4.611114   15287.690570\n",
            "std       218.081158      96.759853    1713.600303\n",
            "min    -80995.000000  -11062.060000   12346.000000\n",
            "25%         1.000000       1.250000   13953.000000\n",
            "50%         3.000000       2.080000   15152.000000\n",
            "75%        10.000000       4.130000   16791.000000\n",
            "max     80995.000000   38970.000000   18287.000000\n"
          ]
        }
      ]
    },
    {
      "cell_type": "code",
      "source": [
        "mean_value = daily_sales.mean()\n",
        "print('La media es', mean_value)"
      ],
      "metadata": {
        "colab": {
          "base_uri": "https://localhost:8080/"
        },
        "id": "4KV2pdJLM_UW",
        "outputId": "c9b44194-b743-4f2d-98aa-860f24e7053c"
      },
      "execution_count": null,
      "outputs": [
        {
          "output_type": "stream",
          "name": "stdout",
          "text": [
            "La media es 9.55224954743324\n"
          ]
        }
      ]
    },
    {
      "cell_type": "code",
      "source": [
        "median_value = daily_sales.median()\n",
        "print('La mediana es', mean_value)"
      ],
      "metadata": {
        "colab": {
          "base_uri": "https://localhost:8080/"
        },
        "id": "SlWqvd1KNJT6",
        "outputId": "c811989b-9024-4925-a364-90601b677b8d"
      },
      "execution_count": null,
      "outputs": [
        {
          "output_type": "stream",
          "name": "stdout",
          "text": [
            "La mediana es 9.55224954743324\n"
          ]
        }
      ]
    },
    {
      "cell_type": "code",
      "source": [
        "sum_value = daily_sales.sum()\n",
        "print('La suma total es', mean_value)"
      ],
      "metadata": {
        "colab": {
          "base_uri": "https://localhost:8080/"
        },
        "id": "AcSuUBpxNN7w",
        "outputId": "f35eb50c-54e5-49e2-e151-8371dbce57c0"
      },
      "execution_count": null,
      "outputs": [
        {
          "output_type": "stream",
          "name": "stdout",
          "text": [
            "La suma total es 9.55224954743324\n"
          ]
        }
      ]
    },
    {
      "cell_type": "code",
      "source": [
        "count_values = daily_sales.count()\n",
        "print(count_values)"
      ],
      "metadata": {
        "colab": {
          "base_uri": "https://localhost:8080/"
        },
        "id": "ke8tfvXNNYUy",
        "outputId": "75ea51a8-3e71-4e14-c7e5-7dfebcfc4fc7"
      },
      "execution_count": null,
      "outputs": [
        {
          "output_type": "stream",
          "name": "stdout",
          "text": [
            "541909\n"
          ]
        }
      ]
    },
    {
      "cell_type": "code",
      "source": [
        "import pandas as pd\n",
        "\n",
        "daily_sales = pd.Series([10, 20, None, 40, 50])\n",
        "\n",
        "# Suma de Quantity\n",
        "total_sum = daily_sales.sum()\n",
        "print(\"Suma de Quantity:\", total_sum)\n",
        "\n",
        "# Conteo de Quantity\n",
        "count_values = daily_sales.count()\n",
        "print(\"Conteo de Quantity:\", count_values)"
      ],
      "metadata": {
        "colab": {
          "base_uri": "https://localhost:8080/"
        },
        "id": "JPwwObRPN75H",
        "outputId": "fb7b6746-0fa6-46b6-9c7a-89b5c085e0a3"
      },
      "execution_count": null,
      "outputs": [
        {
          "output_type": "stream",
          "name": "stdout",
          "text": [
            "Suma de Quantity: 120.0\n",
            "Conteo de Quantity: 4\n"
          ]
        }
      ]
    },
    {
      "cell_type": "code",
      "source": [
        "retail_data.head(8)"
      ],
      "metadata": {
        "colab": {
          "base_uri": "https://localhost:8080/",
          "height": 300
        },
        "id": "rN4vwtK8PAHD",
        "outputId": "9388dfb1-b2ea-4a31-cede-3fd121ca93fa"
      },
      "execution_count": null,
      "outputs": [
        {
          "output_type": "execute_result",
          "data": {
            "text/plain": [
              "  InvoiceNo StockCode                          Description  Quantity  \\\n",
              "0    536365    85123A   WHITE HANGING HEART T-LIGHT HOLDER         6   \n",
              "1    536365     71053                  WHITE METAL LANTERN         6   \n",
              "2    536365    84406B       CREAM CUPID HEARTS COAT HANGER         8   \n",
              "3    536365    84029G  KNITTED UNION FLAG HOT WATER BOTTLE         6   \n",
              "4    536365    84029E       RED WOOLLY HOTTIE WHITE HEART.         6   \n",
              "5    536365     22752         SET 7 BABUSHKA NESTING BOXES         2   \n",
              "6    536365     21730    GLASS STAR FROSTED T-LIGHT HOLDER         6   \n",
              "7    536366     22633               HAND WARMER UNION JACK         6   \n",
              "\n",
              "           InvoiceDate  UnitPrice  CustomerID         Country  \n",
              "0  2010-12-01 08:26:00       2.55     17850.0  United Kingdom  \n",
              "1  2010-12-01 08:26:00       3.39     17850.0  United Kingdom  \n",
              "2  2010-12-01 08:26:00       2.75     17850.0  United Kingdom  \n",
              "3  2010-12-01 08:26:00       3.39     17850.0  United Kingdom  \n",
              "4  2010-12-01 08:26:00       3.39     17850.0  United Kingdom  \n",
              "5  2010-12-01 08:26:00       7.65     17850.0  United Kingdom  \n",
              "6  2010-12-01 08:26:00       4.25     17850.0  United Kingdom  \n",
              "7  2010-12-01 08:28:00       1.85     17850.0  United Kingdom  "
            ],
            "text/html": [
              "\n",
              "  <div id=\"df-5b990f1c-d05f-4c94-aac0-e55193556e3e\" class=\"colab-df-container\">\n",
              "    <div>\n",
              "<style scoped>\n",
              "    .dataframe tbody tr th:only-of-type {\n",
              "        vertical-align: middle;\n",
              "    }\n",
              "\n",
              "    .dataframe tbody tr th {\n",
              "        vertical-align: top;\n",
              "    }\n",
              "\n",
              "    .dataframe thead th {\n",
              "        text-align: right;\n",
              "    }\n",
              "</style>\n",
              "<table border=\"1\" class=\"dataframe\">\n",
              "  <thead>\n",
              "    <tr style=\"text-align: right;\">\n",
              "      <th></th>\n",
              "      <th>InvoiceNo</th>\n",
              "      <th>StockCode</th>\n",
              "      <th>Description</th>\n",
              "      <th>Quantity</th>\n",
              "      <th>InvoiceDate</th>\n",
              "      <th>UnitPrice</th>\n",
              "      <th>CustomerID</th>\n",
              "      <th>Country</th>\n",
              "    </tr>\n",
              "  </thead>\n",
              "  <tbody>\n",
              "    <tr>\n",
              "      <th>0</th>\n",
              "      <td>536365</td>\n",
              "      <td>85123A</td>\n",
              "      <td>WHITE HANGING HEART T-LIGHT HOLDER</td>\n",
              "      <td>6</td>\n",
              "      <td>2010-12-01 08:26:00</td>\n",
              "      <td>2.55</td>\n",
              "      <td>17850.0</td>\n",
              "      <td>United Kingdom</td>\n",
              "    </tr>\n",
              "    <tr>\n",
              "      <th>1</th>\n",
              "      <td>536365</td>\n",
              "      <td>71053</td>\n",
              "      <td>WHITE METAL LANTERN</td>\n",
              "      <td>6</td>\n",
              "      <td>2010-12-01 08:26:00</td>\n",
              "      <td>3.39</td>\n",
              "      <td>17850.0</td>\n",
              "      <td>United Kingdom</td>\n",
              "    </tr>\n",
              "    <tr>\n",
              "      <th>2</th>\n",
              "      <td>536365</td>\n",
              "      <td>84406B</td>\n",
              "      <td>CREAM CUPID HEARTS COAT HANGER</td>\n",
              "      <td>8</td>\n",
              "      <td>2010-12-01 08:26:00</td>\n",
              "      <td>2.75</td>\n",
              "      <td>17850.0</td>\n",
              "      <td>United Kingdom</td>\n",
              "    </tr>\n",
              "    <tr>\n",
              "      <th>3</th>\n",
              "      <td>536365</td>\n",
              "      <td>84029G</td>\n",
              "      <td>KNITTED UNION FLAG HOT WATER BOTTLE</td>\n",
              "      <td>6</td>\n",
              "      <td>2010-12-01 08:26:00</td>\n",
              "      <td>3.39</td>\n",
              "      <td>17850.0</td>\n",
              "      <td>United Kingdom</td>\n",
              "    </tr>\n",
              "    <tr>\n",
              "      <th>4</th>\n",
              "      <td>536365</td>\n",
              "      <td>84029E</td>\n",
              "      <td>RED WOOLLY HOTTIE WHITE HEART.</td>\n",
              "      <td>6</td>\n",
              "      <td>2010-12-01 08:26:00</td>\n",
              "      <td>3.39</td>\n",
              "      <td>17850.0</td>\n",
              "      <td>United Kingdom</td>\n",
              "    </tr>\n",
              "    <tr>\n",
              "      <th>5</th>\n",
              "      <td>536365</td>\n",
              "      <td>22752</td>\n",
              "      <td>SET 7 BABUSHKA NESTING BOXES</td>\n",
              "      <td>2</td>\n",
              "      <td>2010-12-01 08:26:00</td>\n",
              "      <td>7.65</td>\n",
              "      <td>17850.0</td>\n",
              "      <td>United Kingdom</td>\n",
              "    </tr>\n",
              "    <tr>\n",
              "      <th>6</th>\n",
              "      <td>536365</td>\n",
              "      <td>21730</td>\n",
              "      <td>GLASS STAR FROSTED T-LIGHT HOLDER</td>\n",
              "      <td>6</td>\n",
              "      <td>2010-12-01 08:26:00</td>\n",
              "      <td>4.25</td>\n",
              "      <td>17850.0</td>\n",
              "      <td>United Kingdom</td>\n",
              "    </tr>\n",
              "    <tr>\n",
              "      <th>7</th>\n",
              "      <td>536366</td>\n",
              "      <td>22633</td>\n",
              "      <td>HAND WARMER UNION JACK</td>\n",
              "      <td>6</td>\n",
              "      <td>2010-12-01 08:28:00</td>\n",
              "      <td>1.85</td>\n",
              "      <td>17850.0</td>\n",
              "      <td>United Kingdom</td>\n",
              "    </tr>\n",
              "  </tbody>\n",
              "</table>\n",
              "</div>\n",
              "    <div class=\"colab-df-buttons\">\n",
              "\n",
              "  <div class=\"colab-df-container\">\n",
              "    <button class=\"colab-df-convert\" onclick=\"convertToInteractive('df-5b990f1c-d05f-4c94-aac0-e55193556e3e')\"\n",
              "            title=\"Convert this dataframe to an interactive table.\"\n",
              "            style=\"display:none;\">\n",
              "\n",
              "  <svg xmlns=\"http://www.w3.org/2000/svg\" height=\"24px\" viewBox=\"0 -960 960 960\">\n",
              "    <path d=\"M120-120v-720h720v720H120Zm60-500h600v-160H180v160Zm220 220h160v-160H400v160Zm0 220h160v-160H400v160ZM180-400h160v-160H180v160Zm440 0h160v-160H620v160ZM180-180h160v-160H180v160Zm440 0h160v-160H620v160Z\"/>\n",
              "  </svg>\n",
              "    </button>\n",
              "\n",
              "  <style>\n",
              "    .colab-df-container {\n",
              "      display:flex;\n",
              "      gap: 12px;\n",
              "    }\n",
              "\n",
              "    .colab-df-convert {\n",
              "      background-color: #E8F0FE;\n",
              "      border: none;\n",
              "      border-radius: 50%;\n",
              "      cursor: pointer;\n",
              "      display: none;\n",
              "      fill: #1967D2;\n",
              "      height: 32px;\n",
              "      padding: 0 0 0 0;\n",
              "      width: 32px;\n",
              "    }\n",
              "\n",
              "    .colab-df-convert:hover {\n",
              "      background-color: #E2EBFA;\n",
              "      box-shadow: 0px 1px 2px rgba(60, 64, 67, 0.3), 0px 1px 3px 1px rgba(60, 64, 67, 0.15);\n",
              "      fill: #174EA6;\n",
              "    }\n",
              "\n",
              "    .colab-df-buttons div {\n",
              "      margin-bottom: 4px;\n",
              "    }\n",
              "\n",
              "    [theme=dark] .colab-df-convert {\n",
              "      background-color: #3B4455;\n",
              "      fill: #D2E3FC;\n",
              "    }\n",
              "\n",
              "    [theme=dark] .colab-df-convert:hover {\n",
              "      background-color: #434B5C;\n",
              "      box-shadow: 0px 1px 3px 1px rgba(0, 0, 0, 0.15);\n",
              "      filter: drop-shadow(0px 1px 2px rgba(0, 0, 0, 0.3));\n",
              "      fill: #FFFFFF;\n",
              "    }\n",
              "  </style>\n",
              "\n",
              "    <script>\n",
              "      const buttonEl =\n",
              "        document.querySelector('#df-5b990f1c-d05f-4c94-aac0-e55193556e3e button.colab-df-convert');\n",
              "      buttonEl.style.display =\n",
              "        google.colab.kernel.accessAllowed ? 'block' : 'none';\n",
              "\n",
              "      async function convertToInteractive(key) {\n",
              "        const element = document.querySelector('#df-5b990f1c-d05f-4c94-aac0-e55193556e3e');\n",
              "        const dataTable =\n",
              "          await google.colab.kernel.invokeFunction('convertToInteractive',\n",
              "                                                    [key], {});\n",
              "        if (!dataTable) return;\n",
              "\n",
              "        const docLinkHtml = 'Like what you see? Visit the ' +\n",
              "          '<a target=\"_blank\" href=https://colab.research.google.com/notebooks/data_table.ipynb>data table notebook</a>'\n",
              "          + ' to learn more about interactive tables.';\n",
              "        element.innerHTML = '';\n",
              "        dataTable['output_type'] = 'display_data';\n",
              "        await google.colab.output.renderOutput(dataTable, element);\n",
              "        const docLink = document.createElement('div');\n",
              "        docLink.innerHTML = docLinkHtml;\n",
              "        element.appendChild(docLink);\n",
              "      }\n",
              "    </script>\n",
              "  </div>\n",
              "\n",
              "\n",
              "<div id=\"df-f28f7774-6785-4374-8416-33613aefccba\">\n",
              "  <button class=\"colab-df-quickchart\" onclick=\"quickchart('df-f28f7774-6785-4374-8416-33613aefccba')\"\n",
              "            title=\"Suggest charts\"\n",
              "            style=\"display:none;\">\n",
              "\n",
              "<svg xmlns=\"http://www.w3.org/2000/svg\" height=\"24px\"viewBox=\"0 0 24 24\"\n",
              "     width=\"24px\">\n",
              "    <g>\n",
              "        <path d=\"M19 3H5c-1.1 0-2 .9-2 2v14c0 1.1.9 2 2 2h14c1.1 0 2-.9 2-2V5c0-1.1-.9-2-2-2zM9 17H7v-7h2v7zm4 0h-2V7h2v10zm4 0h-2v-4h2v4z\"/>\n",
              "    </g>\n",
              "</svg>\n",
              "  </button>\n",
              "\n",
              "<style>\n",
              "  .colab-df-quickchart {\n",
              "      --bg-color: #E8F0FE;\n",
              "      --fill-color: #1967D2;\n",
              "      --hover-bg-color: #E2EBFA;\n",
              "      --hover-fill-color: #174EA6;\n",
              "      --disabled-fill-color: #AAA;\n",
              "      --disabled-bg-color: #DDD;\n",
              "  }\n",
              "\n",
              "  [theme=dark] .colab-df-quickchart {\n",
              "      --bg-color: #3B4455;\n",
              "      --fill-color: #D2E3FC;\n",
              "      --hover-bg-color: #434B5C;\n",
              "      --hover-fill-color: #FFFFFF;\n",
              "      --disabled-bg-color: #3B4455;\n",
              "      --disabled-fill-color: #666;\n",
              "  }\n",
              "\n",
              "  .colab-df-quickchart {\n",
              "    background-color: var(--bg-color);\n",
              "    border: none;\n",
              "    border-radius: 50%;\n",
              "    cursor: pointer;\n",
              "    display: none;\n",
              "    fill: var(--fill-color);\n",
              "    height: 32px;\n",
              "    padding: 0;\n",
              "    width: 32px;\n",
              "  }\n",
              "\n",
              "  .colab-df-quickchart:hover {\n",
              "    background-color: var(--hover-bg-color);\n",
              "    box-shadow: 0 1px 2px rgba(60, 64, 67, 0.3), 0 1px 3px 1px rgba(60, 64, 67, 0.15);\n",
              "    fill: var(--button-hover-fill-color);\n",
              "  }\n",
              "\n",
              "  .colab-df-quickchart-complete:disabled,\n",
              "  .colab-df-quickchart-complete:disabled:hover {\n",
              "    background-color: var(--disabled-bg-color);\n",
              "    fill: var(--disabled-fill-color);\n",
              "    box-shadow: none;\n",
              "  }\n",
              "\n",
              "  .colab-df-spinner {\n",
              "    border: 2px solid var(--fill-color);\n",
              "    border-color: transparent;\n",
              "    border-bottom-color: var(--fill-color);\n",
              "    animation:\n",
              "      spin 1s steps(1) infinite;\n",
              "  }\n",
              "\n",
              "  @keyframes spin {\n",
              "    0% {\n",
              "      border-color: transparent;\n",
              "      border-bottom-color: var(--fill-color);\n",
              "      border-left-color: var(--fill-color);\n",
              "    }\n",
              "    20% {\n",
              "      border-color: transparent;\n",
              "      border-left-color: var(--fill-color);\n",
              "      border-top-color: var(--fill-color);\n",
              "    }\n",
              "    30% {\n",
              "      border-color: transparent;\n",
              "      border-left-color: var(--fill-color);\n",
              "      border-top-color: var(--fill-color);\n",
              "      border-right-color: var(--fill-color);\n",
              "    }\n",
              "    40% {\n",
              "      border-color: transparent;\n",
              "      border-right-color: var(--fill-color);\n",
              "      border-top-color: var(--fill-color);\n",
              "    }\n",
              "    60% {\n",
              "      border-color: transparent;\n",
              "      border-right-color: var(--fill-color);\n",
              "    }\n",
              "    80% {\n",
              "      border-color: transparent;\n",
              "      border-right-color: var(--fill-color);\n",
              "      border-bottom-color: var(--fill-color);\n",
              "    }\n",
              "    90% {\n",
              "      border-color: transparent;\n",
              "      border-bottom-color: var(--fill-color);\n",
              "    }\n",
              "  }\n",
              "</style>\n",
              "\n",
              "  <script>\n",
              "    async function quickchart(key) {\n",
              "      const quickchartButtonEl =\n",
              "        document.querySelector('#' + key + ' button');\n",
              "      quickchartButtonEl.disabled = true;  // To prevent multiple clicks.\n",
              "      quickchartButtonEl.classList.add('colab-df-spinner');\n",
              "      try {\n",
              "        const charts = await google.colab.kernel.invokeFunction(\n",
              "            'suggestCharts', [key], {});\n",
              "      } catch (error) {\n",
              "        console.error('Error during call to suggestCharts:', error);\n",
              "      }\n",
              "      quickchartButtonEl.classList.remove('colab-df-spinner');\n",
              "      quickchartButtonEl.classList.add('colab-df-quickchart-complete');\n",
              "    }\n",
              "    (() => {\n",
              "      let quickchartButtonEl =\n",
              "        document.querySelector('#df-f28f7774-6785-4374-8416-33613aefccba button');\n",
              "      quickchartButtonEl.style.display =\n",
              "        google.colab.kernel.accessAllowed ? 'block' : 'none';\n",
              "    })();\n",
              "  </script>\n",
              "</div>\n",
              "\n",
              "    </div>\n",
              "  </div>\n"
            ],
            "application/vnd.google.colaboratory.intrinsic+json": {
              "type": "dataframe",
              "variable_name": "retail_data"
            }
          },
          "metadata": {},
          "execution_count": 27
        }
      ]
    },
    {
      "cell_type": "markdown",
      "source": [
        "# 15 iloc & loc"
      ],
      "metadata": {
        "id": "mnaDSILuTLEn"
      }
    },
    {
      "cell_type": "code",
      "source": [
        "first_row = retail_data.iloc[0]\n",
        "print(first_row)"
      ],
      "metadata": {
        "colab": {
          "base_uri": "https://localhost:8080/"
        },
        "id": "CNsyyJXeTKrS",
        "outputId": "482863f3-d435-4505-87d4-df2e226cf4ce"
      },
      "execution_count": null,
      "outputs": [
        {
          "output_type": "stream",
          "name": "stdout",
          "text": [
            "InvoiceNo                                  536365\n",
            "StockCode                                  85123A\n",
            "Description    WHITE HANGING HEART T-LIGHT HOLDER\n",
            "Quantity                                        6\n",
            "InvoiceDate                   2010-12-01 08:26:00\n",
            "UnitPrice                                    2.55\n",
            "CustomerID                                17850.0\n",
            "Country                            United Kingdom\n",
            "Name: 0, dtype: object\n"
          ]
        }
      ]
    },
    {
      "cell_type": "code",
      "source": [
        "first_five_row = retail_data.iloc[6:8]\n",
        "print(first_five_row)"
      ],
      "metadata": {
        "colab": {
          "base_uri": "https://localhost:8080/"
        },
        "id": "NS-2UhzCT70W",
        "outputId": "2e00930a-331b-46f9-f161-d610497defcb"
      },
      "execution_count": null,
      "outputs": [
        {
          "output_type": "stream",
          "name": "stdout",
          "text": [
            "  InvoiceNo StockCode                        Description  Quantity  \\\n",
            "6    536365     21730  GLASS STAR FROSTED T-LIGHT HOLDER         6   \n",
            "7    536366     22633             HAND WARMER UNION JACK         6   \n",
            "\n",
            "           InvoiceDate  UnitPrice  CustomerID         Country  \n",
            "6  2010-12-01 08:26:00       4.25     17850.0  United Kingdom  \n",
            "7  2010-12-01 08:28:00       1.85     17850.0  United Kingdom  \n"
          ]
        }
      ]
    },
    {
      "cell_type": "code",
      "source": [
        "subset = retail_data.iloc[:3, :2]\n",
        "print(subset)"
      ],
      "metadata": {
        "colab": {
          "base_uri": "https://localhost:8080/"
        },
        "id": "QUddkGwhUUVA",
        "outputId": "e3a9232a-8e7f-4dac-a053-a952ba3fad6e"
      },
      "execution_count": null,
      "outputs": [
        {
          "output_type": "stream",
          "name": "stdout",
          "text": [
            "  InvoiceNo StockCode\n",
            "0    536365    85123A\n",
            "1    536365     71053\n",
            "2    536365    84406B\n"
          ]
        }
      ]
    },
    {
      "cell_type": "code",
      "source": [
        "retail_value = retail_data.iloc[1, 3]\n",
        "print(retail_value)"
      ],
      "metadata": {
        "colab": {
          "base_uri": "https://localhost:8080/"
        },
        "id": "ufIsgQqAUjFi",
        "outputId": "37afd31a-2530-4f95-ad37-f3b7ac6f6df9"
      },
      "execution_count": null,
      "outputs": [
        {
          "output_type": "stream",
          "name": "stdout",
          "text": [
            "6\n"
          ]
        }
      ]
    },
    {
      "cell_type": "code",
      "source": [
        "row_index_3 = retail_data.loc[3]\n",
        "print(row_index_3)"
      ],
      "metadata": {
        "colab": {
          "base_uri": "https://localhost:8080/"
        },
        "id": "ghJEEVLZVZZ3",
        "outputId": "97c095f9-16d3-43a7-af15-aa5413f5ecc1"
      },
      "execution_count": null,
      "outputs": [
        {
          "output_type": "stream",
          "name": "stdout",
          "text": [
            "InvoiceNo                                   536365\n",
            "StockCode                                   84029G\n",
            "Description    KNITTED UNION FLAG HOT WATER BOTTLE\n",
            "Quantity                                         6\n",
            "InvoiceDate                    2010-12-01 08:26:00\n",
            "UnitPrice                                     3.39\n",
            "CustomerID                                 17850.0\n",
            "Country                             United Kingdom\n",
            "Name: 3, dtype: object\n"
          ]
        }
      ]
    },
    {
      "cell_type": "code",
      "source": [
        "row_index_0_to_4 = retail_data.loc[0:4]\n",
        "print(row_index_0_to_4)"
      ],
      "metadata": {
        "colab": {
          "base_uri": "https://localhost:8080/"
        },
        "id": "gTtG71qwVd6_",
        "outputId": "b4b9f4c5-5147-4680-f105-d435d56c18c3"
      },
      "execution_count": null,
      "outputs": [
        {
          "output_type": "stream",
          "name": "stdout",
          "text": [
            "  InvoiceNo StockCode                          Description  Quantity  \\\n",
            "0    536365    85123A   WHITE HANGING HEART T-LIGHT HOLDER         6   \n",
            "1    536365     71053                  WHITE METAL LANTERN         6   \n",
            "2    536365    84406B       CREAM CUPID HEARTS COAT HANGER         8   \n",
            "3    536365    84029G  KNITTED UNION FLAG HOT WATER BOTTLE         6   \n",
            "4    536365    84029E       RED WOOLLY HOTTIE WHITE HEART.         6   \n",
            "\n",
            "           InvoiceDate  UnitPrice  CustomerID         Country  \n",
            "0  2010-12-01 08:26:00       2.55     17850.0  United Kingdom  \n",
            "1  2010-12-01 08:26:00       3.39     17850.0  United Kingdom  \n",
            "2  2010-12-01 08:26:00       2.75     17850.0  United Kingdom  \n",
            "3  2010-12-01 08:26:00       3.39     17850.0  United Kingdom  \n",
            "4  2010-12-01 08:26:00       3.39     17850.0  United Kingdom  \n"
          ]
        }
      ]
    },
    {
      "cell_type": "code",
      "source": [
        "quantity_column = retail_data.loc[:,'Quantity']\n",
        "print(quantity_column)"
      ],
      "metadata": {
        "colab": {
          "base_uri": "https://localhost:8080/"
        },
        "id": "NSbxoUe3Vr_x",
        "outputId": "2f9c0894-4687-4c1b-ba3d-5e53f81db0d1"
      },
      "execution_count": null,
      "outputs": [
        {
          "output_type": "stream",
          "name": "stdout",
          "text": [
            "0          6\n",
            "1          6\n",
            "2          8\n",
            "3          6\n",
            "4          6\n",
            "          ..\n",
            "541904    12\n",
            "541905     6\n",
            "541906     4\n",
            "541907     4\n",
            "541908     3\n",
            "Name: Quantity, Length: 541909, dtype: int64\n"
          ]
        }
      ]
    },
    {
      "cell_type": "code",
      "source": [
        "quantity_unitprices_column = retail_data.loc[:,['Quantity','UnitPrice']]\n",
        "print(quantity_unitprices_column)"
      ],
      "metadata": {
        "colab": {
          "base_uri": "https://localhost:8080/"
        },
        "id": "2BtrlO83V81k",
        "outputId": "dad76261-b0e3-4e86-919e-b0c3771aa9de"
      },
      "execution_count": null,
      "outputs": [
        {
          "output_type": "stream",
          "name": "stdout",
          "text": [
            "        Quantity  UnitPrice\n",
            "0              6       2.55\n",
            "1              6       3.39\n",
            "2              8       2.75\n",
            "3              6       3.39\n",
            "4              6       3.39\n",
            "...          ...        ...\n",
            "541904        12       0.85\n",
            "541905         6       2.10\n",
            "541906         4       4.15\n",
            "541907         4       4.15\n",
            "541908         3       4.95\n",
            "\n",
            "[541909 rows x 2 columns]\n"
          ]
        }
      ]
    },
    {
      "cell_type": "markdown",
      "source": [
        "# 16 Datos Faltantes"
      ],
      "metadata": {
        "id": "HttwsTREcFot"
      }
    },
    {
      "cell_type": "code",
      "source": [
        "missing_data = retail_data.isna()\n",
        "print(missing_data)"
      ],
      "metadata": {
        "colab": {
          "base_uri": "https://localhost:8080/"
        },
        "id": "t7PsuEumcH9X",
        "outputId": "529d47b1-6910-4217-c0fc-f521679fb00f"
      },
      "execution_count": null,
      "outputs": [
        {
          "output_type": "stream",
          "name": "stdout",
          "text": [
            "        InvoiceNo  StockCode  Description  Quantity  InvoiceDate  UnitPrice  \\\n",
            "0           False      False        False     False        False      False   \n",
            "1           False      False        False     False        False      False   \n",
            "2           False      False        False     False        False      False   \n",
            "3           False      False        False     False        False      False   \n",
            "4           False      False        False     False        False      False   \n",
            "...           ...        ...          ...       ...          ...        ...   \n",
            "541904      False      False        False     False        False      False   \n",
            "541905      False      False        False     False        False      False   \n",
            "541906      False      False        False     False        False      False   \n",
            "541907      False      False        False     False        False      False   \n",
            "541908      False      False        False     False        False      False   \n",
            "\n",
            "        CustomerID  Country  \n",
            "0            False    False  \n",
            "1            False    False  \n",
            "2            False    False  \n",
            "3            False    False  \n",
            "4            False    False  \n",
            "...            ...      ...  \n",
            "541904       False    False  \n",
            "541905       False    False  \n",
            "541906       False    False  \n",
            "541907       False    False  \n",
            "541908       False    False  \n",
            "\n",
            "[541909 rows x 8 columns]\n"
          ]
        }
      ]
    },
    {
      "cell_type": "code",
      "source": [
        "print(missing_data.head())"
      ],
      "metadata": {
        "colab": {
          "base_uri": "https://localhost:8080/"
        },
        "id": "BauZ_l4uduF1",
        "outputId": "02289d42-70e2-4987-9811-573539deecf3"
      },
      "execution_count": null,
      "outputs": [
        {
          "output_type": "stream",
          "name": "stdout",
          "text": [
            "   InvoiceNo  StockCode  Description  Quantity  InvoiceDate  UnitPrice  \\\n",
            "0      False      False        False     False        False      False   \n",
            "1      False      False        False     False        False      False   \n",
            "2      False      False        False     False        False      False   \n",
            "3      False      False        False     False        False      False   \n",
            "4      False      False        False     False        False      False   \n",
            "\n",
            "   CustomerID  Country  \n",
            "0       False    False  \n",
            "1       False    False  \n",
            "2       False    False  \n",
            "3       False    False  \n",
            "4       False    False  \n"
          ]
        }
      ]
    },
    {
      "cell_type": "code",
      "source": [
        "missing_data_count = retail_data.isna().sum()\n",
        "print('Conteo de datos faltantes por columna:\\n',missing_data_count )"
      ],
      "metadata": {
        "colab": {
          "base_uri": "https://localhost:8080/"
        },
        "id": "CfaQlO-cdyjG",
        "outputId": "9703f5ba-e51f-4bdc-a2a1-7607f2eef5f2"
      },
      "execution_count": null,
      "outputs": [
        {
          "output_type": "stream",
          "name": "stdout",
          "text": [
            "Conteo de datos faltantes por columna:\n",
            " InvoiceNo           0\n",
            "StockCode           0\n",
            "Description      1454\n",
            "Quantity            0\n",
            "InvoiceDate         0\n",
            "UnitPrice           0\n",
            "CustomerID     135080\n",
            "Country             0\n",
            "dtype: int64\n"
          ]
        }
      ]
    },
    {
      "cell_type": "code",
      "source": [
        "no_missing_rows = retail_data.dropna()\n",
        "print('Datos sin filas con valores faltantes:\\n', no_missing_rows)"
      ],
      "metadata": {
        "colab": {
          "base_uri": "https://localhost:8080/"
        },
        "id": "CdFoJQZNek_H",
        "outputId": "cfed15a1-1daf-40f9-f386-487fc6fd1ea6"
      },
      "execution_count": null,
      "outputs": [
        {
          "output_type": "stream",
          "name": "stdout",
          "text": [
            "Datos sin filas con valores faltantes:\n",
            "        InvoiceNo StockCode                          Description  Quantity  \\\n",
            "0         536365    85123A   WHITE HANGING HEART T-LIGHT HOLDER         6   \n",
            "1         536365     71053                  WHITE METAL LANTERN         6   \n",
            "2         536365    84406B       CREAM CUPID HEARTS COAT HANGER         8   \n",
            "3         536365    84029G  KNITTED UNION FLAG HOT WATER BOTTLE         6   \n",
            "4         536365    84029E       RED WOOLLY HOTTIE WHITE HEART.         6   \n",
            "...          ...       ...                                  ...       ...   \n",
            "541904    581587     22613          PACK OF 20 SPACEBOY NAPKINS        12   \n",
            "541905    581587     22899         CHILDREN'S APRON DOLLY GIRL          6   \n",
            "541906    581587     23254        CHILDRENS CUTLERY DOLLY GIRL          4   \n",
            "541907    581587     23255      CHILDRENS CUTLERY CIRCUS PARADE         4   \n",
            "541908    581587     22138        BAKING SET 9 PIECE RETROSPOT          3   \n",
            "\n",
            "                InvoiceDate  UnitPrice  CustomerID         Country  \n",
            "0       2010-12-01 08:26:00       2.55     17850.0  United Kingdom  \n",
            "1       2010-12-01 08:26:00       3.39     17850.0  United Kingdom  \n",
            "2       2010-12-01 08:26:00       2.75     17850.0  United Kingdom  \n",
            "3       2010-12-01 08:26:00       3.39     17850.0  United Kingdom  \n",
            "4       2010-12-01 08:26:00       3.39     17850.0  United Kingdom  \n",
            "...                     ...        ...         ...             ...  \n",
            "541904  2011-12-09 12:50:00       0.85     12680.0          France  \n",
            "541905  2011-12-09 12:50:00       2.10     12680.0          France  \n",
            "541906  2011-12-09 12:50:00       4.15     12680.0          France  \n",
            "541907  2011-12-09 12:50:00       4.15     12680.0          France  \n",
            "541908  2011-12-09 12:50:00       4.95     12680.0          France  \n",
            "\n",
            "[406829 rows x 8 columns]\n"
          ]
        }
      ]
    },
    {
      "cell_type": "code",
      "source": [
        "no_missing_columns = retail_data.dropna(axis=1)\n",
        "print('DAtos sin columnas con valores faltantes:\\n', no_missing_columns)"
      ],
      "metadata": {
        "colab": {
          "base_uri": "https://localhost:8080/"
        },
        "id": "cjmwDyQEe8Yw",
        "outputId": "51123485-ce1f-4fc1-f26c-83c2ac2ae9e1"
      },
      "execution_count": null,
      "outputs": [
        {
          "output_type": "stream",
          "name": "stdout",
          "text": [
            "DAtos sin columnas con valores faltantes:\n",
            "        InvoiceNo StockCode  Quantity          InvoiceDate  UnitPrice  \\\n",
            "0         536365    85123A         6  2010-12-01 08:26:00       2.55   \n",
            "1         536365     71053         6  2010-12-01 08:26:00       3.39   \n",
            "2         536365    84406B         8  2010-12-01 08:26:00       2.75   \n",
            "3         536365    84029G         6  2010-12-01 08:26:00       3.39   \n",
            "4         536365    84029E         6  2010-12-01 08:26:00       3.39   \n",
            "...          ...       ...       ...                  ...        ...   \n",
            "541904    581587     22613        12  2011-12-09 12:50:00       0.85   \n",
            "541905    581587     22899         6  2011-12-09 12:50:00       2.10   \n",
            "541906    581587     23254         4  2011-12-09 12:50:00       4.15   \n",
            "541907    581587     23255         4  2011-12-09 12:50:00       4.15   \n",
            "541908    581587     22138         3  2011-12-09 12:50:00       4.95   \n",
            "\n",
            "               Country  \n",
            "0       United Kingdom  \n",
            "1       United Kingdom  \n",
            "2       United Kingdom  \n",
            "3       United Kingdom  \n",
            "4       United Kingdom  \n",
            "...                ...  \n",
            "541904          France  \n",
            "541905          France  \n",
            "541906          France  \n",
            "541907          France  \n",
            "541908          France  \n",
            "\n",
            "[541909 rows x 6 columns]\n"
          ]
        }
      ]
    },
    {
      "cell_type": "code",
      "source": [
        "retail_data_filled_zeros = retail_data.fillna(0)\n",
        "retail_data_filled_zeros_count = retail_data_filled_zeros.isna().sum()\n",
        "print(retail_data_filled_zeros_count)"
      ],
      "metadata": {
        "colab": {
          "base_uri": "https://localhost:8080/"
        },
        "id": "GVB3VGdKfkao",
        "outputId": "f92a2a35-1aa6-48a2-f7bc-364c97e3cc95"
      },
      "execution_count": null,
      "outputs": [
        {
          "output_type": "stream",
          "name": "stdout",
          "text": [
            "InvoiceNo      0\n",
            "StockCode      0\n",
            "Description    0\n",
            "Quantity       0\n",
            "InvoiceDate    0\n",
            "UnitPrice      0\n",
            "CustomerID     0\n",
            "Country        0\n",
            "dtype: int64\n"
          ]
        }
      ]
    },
    {
      "cell_type": "code",
      "source": [
        "mean_unit_price = retail_data['UnitPrice'].mean()\n",
        "retail_data_filled_mean = retail_data['UnitPrice'].fillna(mean_unit_price)\n",
        "print(retail_data_filled_mean)"
      ],
      "metadata": {
        "colab": {
          "base_uri": "https://localhost:8080/"
        },
        "id": "CjnFkFD3gV3i",
        "outputId": "b74c6f8c-3d7b-4776-c99e-c05c34fe16af"
      },
      "execution_count": null,
      "outputs": [
        {
          "output_type": "stream",
          "name": "stdout",
          "text": [
            "0         2.55\n",
            "1         3.39\n",
            "2         2.75\n",
            "3         3.39\n",
            "4         3.39\n",
            "          ... \n",
            "541904    0.85\n",
            "541905    2.10\n",
            "541906    4.15\n",
            "541907    4.15\n",
            "541908    4.95\n",
            "Name: UnitPrice, Length: 541909, dtype: float64\n"
          ]
        }
      ]
    },
    {
      "cell_type": "markdown",
      "source": [
        "# 17 Manipulación de columnas"
      ],
      "metadata": {
        "id": "VXxEF97hj1ES"
      }
    },
    {
      "cell_type": "code",
      "source": [
        "import pandas as pd\n",
        "\n",
        "df = pd.read_csv('online_retail.csv')\n",
        "\n",
        "df['TotalPrice'] = df['Quantity'] * df['UnitPrice']\n",
        "\n",
        "print(df.head())"
      ],
      "metadata": {
        "colab": {
          "base_uri": "https://localhost:8080/"
        },
        "id": "BjNQlLW2j3XO",
        "outputId": "f6417e53-99ee-4843-9ad8-e92bd71cfc39"
      },
      "execution_count": null,
      "outputs": [
        {
          "output_type": "stream",
          "name": "stdout",
          "text": [
            "  InvoiceNo StockCode                          Description  Quantity  \\\n",
            "0    536365    85123A   WHITE HANGING HEART T-LIGHT HOLDER         6   \n",
            "1    536365     71053                  WHITE METAL LANTERN         6   \n",
            "2    536365    84406B       CREAM CUPID HEARTS COAT HANGER         8   \n",
            "3    536365    84029G  KNITTED UNION FLAG HOT WATER BOTTLE         6   \n",
            "4    536365    84029E       RED WOOLLY HOTTIE WHITE HEART.         6   \n",
            "\n",
            "           InvoiceDate  UnitPrice  CustomerID         Country  TotalPrice  \n",
            "0  2010-12-01 08:26:00       2.55     17850.0  United Kingdom       15.30  \n",
            "1  2010-12-01 08:26:00       3.39     17850.0  United Kingdom       20.34  \n",
            "2  2010-12-01 08:26:00       2.75     17850.0  United Kingdom       22.00  \n",
            "3  2010-12-01 08:26:00       3.39     17850.0  United Kingdom       20.34  \n",
            "4  2010-12-01 08:26:00       3.39     17850.0  United Kingdom       20.34  \n"
          ]
        }
      ]
    },
    {
      "cell_type": "code",
      "source": [
        "df['HighValue'] = df['TotalPrice'] > 16\n",
        "print(df['HighValue'].head(10))"
      ],
      "metadata": {
        "colab": {
          "base_uri": "https://localhost:8080/"
        },
        "id": "BmjCSEr8khkO",
        "outputId": "89686706-d1c5-4e32-abe3-6b953647af17"
      },
      "execution_count": null,
      "outputs": [
        {
          "output_type": "stream",
          "name": "stdout",
          "text": [
            "0    False\n",
            "1     True\n",
            "2     True\n",
            "3     True\n",
            "4     True\n",
            "5    False\n",
            "6     True\n",
            "7    False\n",
            "8    False\n",
            "9     True\n",
            "Name: HighValue, dtype: bool\n"
          ]
        }
      ]
    },
    {
      "cell_type": "code",
      "source": [
        "print(df.info())"
      ],
      "metadata": {
        "colab": {
          "base_uri": "https://localhost:8080/"
        },
        "id": "bDydG0ZPlebf",
        "outputId": "8d6c0206-64a8-4754-d4dc-56a3dbcd26b3"
      },
      "execution_count": null,
      "outputs": [
        {
          "output_type": "stream",
          "name": "stdout",
          "text": [
            "<class 'pandas.core.frame.DataFrame'>\n",
            "RangeIndex: 541909 entries, 0 to 541908\n",
            "Data columns (total 10 columns):\n",
            " #   Column       Non-Null Count   Dtype  \n",
            "---  ------       --------------   -----  \n",
            " 0   InvoiceNo    541909 non-null  object \n",
            " 1   StockCode    541909 non-null  object \n",
            " 2   Description  540455 non-null  object \n",
            " 3   Quantity     541909 non-null  int64  \n",
            " 4   InvoiceDate  541909 non-null  object \n",
            " 5   UnitPrice    541909 non-null  float64\n",
            " 6   CustomerID   406829 non-null  float64\n",
            " 7   Country      541909 non-null  object \n",
            " 8   TotalPrice   541909 non-null  float64\n",
            " 9   HighValue    541909 non-null  bool   \n",
            "dtypes: bool(1), float64(3), int64(1), object(5)\n",
            "memory usage: 37.7+ MB\n",
            "None\n"
          ]
        }
      ]
    },
    {
      "cell_type": "code",
      "source": [
        "df['InvoiceDate'] = pd.to_datetime(df['InvoiceDate'])\n",
        "print(df.info())"
      ],
      "metadata": {
        "colab": {
          "base_uri": "https://localhost:8080/"
        },
        "id": "CuQ7_0o7lpRT",
        "outputId": "73fbdf7a-e7e1-47dd-9639-007f83e9d483"
      },
      "execution_count": null,
      "outputs": [
        {
          "output_type": "stream",
          "name": "stdout",
          "text": [
            "<class 'pandas.core.frame.DataFrame'>\n",
            "RangeIndex: 541909 entries, 0 to 541908\n",
            "Data columns (total 10 columns):\n",
            " #   Column       Non-Null Count   Dtype         \n",
            "---  ------       --------------   -----         \n",
            " 0   InvoiceNo    541909 non-null  object        \n",
            " 1   StockCode    541909 non-null  object        \n",
            " 2   Description  540455 non-null  object        \n",
            " 3   Quantity     541909 non-null  int64         \n",
            " 4   InvoiceDate  541909 non-null  datetime64[ns]\n",
            " 5   UnitPrice    541909 non-null  float64       \n",
            " 6   CustomerID   406829 non-null  float64       \n",
            " 7   Country      541909 non-null  object        \n",
            " 8   TotalPrice   541909 non-null  float64       \n",
            " 9   HighValue    541909 non-null  bool          \n",
            "dtypes: bool(1), datetime64[ns](1), float64(3), int64(1), object(4)\n",
            "memory usage: 37.7+ MB\n",
            "None\n"
          ]
        }
      ]
    },
    {
      "cell_type": "code",
      "source": [
        "df['DiscountedPrice'] = df['UnitPrice'].apply(lambda x: x* 0.9)\n",
        "print(df.head(3))"
      ],
      "metadata": {
        "colab": {
          "base_uri": "https://localhost:8080/"
        },
        "id": "BDkT1VeNneGW",
        "outputId": "cfd964e3-88a8-4970-d1b6-066f2a2da8ab"
      },
      "execution_count": null,
      "outputs": [
        {
          "output_type": "stream",
          "name": "stdout",
          "text": [
            "  InvoiceNo StockCode                         Description  Quantity  \\\n",
            "0    536365    85123A  WHITE HANGING HEART T-LIGHT HOLDER         6   \n",
            "1    536365     71053                 WHITE METAL LANTERN         6   \n",
            "2    536365    84406B      CREAM CUPID HEARTS COAT HANGER         8   \n",
            "\n",
            "          InvoiceDate  UnitPrice  CustomerID         Country  TotalPrice  \\\n",
            "0 2010-12-01 08:26:00       2.55     17850.0  United Kingdom       15.30   \n",
            "1 2010-12-01 08:26:00       3.39     17850.0  United Kingdom       20.34   \n",
            "2 2010-12-01 08:26:00       2.75     17850.0  United Kingdom       22.00   \n",
            "\n",
            "   HighValue  DiscountedPrice  \n",
            "0      False            2.295  \n",
            "1       True            3.051  \n",
            "2       True            2.475  \n"
          ]
        }
      ]
    },
    {
      "cell_type": "code",
      "source": [
        "def categorize_price(price):\n",
        "  if price > 50:\n",
        "    return 'High'\n",
        "  elif price < 20:\n",
        "    return 'Medium'\n",
        "  else:\n",
        "    return 'Low'\n",
        "\n",
        "df['PriceCategory'] = df['UnitPrice'].apply(categorize_price)\n",
        "print(df.head(10))"
      ],
      "metadata": {
        "colab": {
          "base_uri": "https://localhost:8080/"
        },
        "id": "W0ToaaGCn8Jf",
        "outputId": "01c5dd6f-d553-41e9-c72f-ddb8d4a39d85"
      },
      "execution_count": null,
      "outputs": [
        {
          "output_type": "stream",
          "name": "stdout",
          "text": [
            "  InvoiceNo StockCode                          Description  Quantity  \\\n",
            "0    536365    85123A   WHITE HANGING HEART T-LIGHT HOLDER         6   \n",
            "1    536365     71053                  WHITE METAL LANTERN         6   \n",
            "2    536365    84406B       CREAM CUPID HEARTS COAT HANGER         8   \n",
            "3    536365    84029G  KNITTED UNION FLAG HOT WATER BOTTLE         6   \n",
            "4    536365    84029E       RED WOOLLY HOTTIE WHITE HEART.         6   \n",
            "5    536365     22752         SET 7 BABUSHKA NESTING BOXES         2   \n",
            "6    536365     21730    GLASS STAR FROSTED T-LIGHT HOLDER         6   \n",
            "7    536366     22633               HAND WARMER UNION JACK         6   \n",
            "8    536366     22632            HAND WARMER RED POLKA DOT         6   \n",
            "9    536367     84879        ASSORTED COLOUR BIRD ORNAMENT        32   \n",
            "\n",
            "          InvoiceDate  UnitPrice  CustomerID         Country  TotalPrice  \\\n",
            "0 2010-12-01 08:26:00       2.55     17850.0  United Kingdom       15.30   \n",
            "1 2010-12-01 08:26:00       3.39     17850.0  United Kingdom       20.34   \n",
            "2 2010-12-01 08:26:00       2.75     17850.0  United Kingdom       22.00   \n",
            "3 2010-12-01 08:26:00       3.39     17850.0  United Kingdom       20.34   \n",
            "4 2010-12-01 08:26:00       3.39     17850.0  United Kingdom       20.34   \n",
            "5 2010-12-01 08:26:00       7.65     17850.0  United Kingdom       15.30   \n",
            "6 2010-12-01 08:26:00       4.25     17850.0  United Kingdom       25.50   \n",
            "7 2010-12-01 08:28:00       1.85     17850.0  United Kingdom       11.10   \n",
            "8 2010-12-01 08:28:00       1.85     17850.0  United Kingdom       11.10   \n",
            "9 2010-12-01 08:34:00       1.69     13047.0  United Kingdom       54.08   \n",
            "\n",
            "   HighValue  DiscountedPrice PriceCategory  \n",
            "0      False            2.295        Medium  \n",
            "1       True            3.051        Medium  \n",
            "2       True            2.475        Medium  \n",
            "3       True            3.051        Medium  \n",
            "4       True            3.051        Medium  \n",
            "5      False            6.885        Medium  \n",
            "6       True            3.825        Medium  \n",
            "7      False            1.665        Medium  \n",
            "8      False            1.665        Medium  \n",
            "9       True            1.521        Medium  \n"
          ]
        }
      ]
    },
    {
      "cell_type": "markdown",
      "source": [
        "# 18 Groupby"
      ],
      "metadata": {
        "id": "YFaMmDl0xeq4"
      }
    },
    {
      "cell_type": "code",
      "source": [
        "country_count = df['Country'].value_counts()\n",
        "print(country_count)"
      ],
      "metadata": {
        "colab": {
          "base_uri": "https://localhost:8080/"
        },
        "id": "aMe1UqOpxggI",
        "outputId": "8cc10529-3d70-4f21-bb98-67ec0da08b36"
      },
      "execution_count": null,
      "outputs": [
        {
          "output_type": "stream",
          "name": "stdout",
          "text": [
            "Country\n",
            "United Kingdom          495478\n",
            "Germany                   9495\n",
            "France                    8557\n",
            "EIRE                      8196\n",
            "Spain                     2533\n",
            "Netherlands               2371\n",
            "Belgium                   2069\n",
            "Switzerland               2002\n",
            "Portugal                  1519\n",
            "Australia                 1259\n",
            "Norway                    1086\n",
            "Italy                      803\n",
            "Channel Islands            758\n",
            "Finland                    695\n",
            "Cyprus                     622\n",
            "Sweden                     462\n",
            "Unspecified                446\n",
            "Austria                    401\n",
            "Denmark                    389\n",
            "Japan                      358\n",
            "Poland                     341\n",
            "Israel                     297\n",
            "USA                        291\n",
            "Hong Kong                  288\n",
            "Singapore                  229\n",
            "Iceland                    182\n",
            "Canada                     151\n",
            "Greece                     146\n",
            "Malta                      127\n",
            "United Arab Emirates        68\n",
            "European Community          61\n",
            "RSA                         58\n",
            "Lebanon                     45\n",
            "Lithuania                   35\n",
            "Brazil                      32\n",
            "Czech Republic              30\n",
            "Bahrain                     19\n",
            "Saudi Arabia                10\n",
            "Name: count, dtype: int64\n"
          ]
        }
      ]
    },
    {
      "cell_type": "code",
      "source": [
        "country_group = df.groupby('Country')['Quantity'].sum()\n",
        "print(country_group)"
      ],
      "metadata": {
        "colab": {
          "base_uri": "https://localhost:8080/"
        },
        "id": "JIAJE-6Oyj9Z",
        "outputId": "06dca25b-0979-4419-ac7d-d0495c1a0513"
      },
      "execution_count": null,
      "outputs": [
        {
          "output_type": "stream",
          "name": "stdout",
          "text": [
            "Country\n",
            "Australia                 83653\n",
            "Austria                    4827\n",
            "Bahrain                     260\n",
            "Belgium                   23152\n",
            "Brazil                      356\n",
            "Canada                     2763\n",
            "Channel Islands            9479\n",
            "Cyprus                     6317\n",
            "Czech Republic              592\n",
            "Denmark                    8188\n",
            "EIRE                     142637\n",
            "European Community          497\n",
            "Finland                   10666\n",
            "France                   110480\n",
            "Germany                  117448\n",
            "Greece                     1556\n",
            "Hong Kong                  4769\n",
            "Iceland                    2458\n",
            "Israel                     4353\n",
            "Italy                      7999\n",
            "Japan                     25218\n",
            "Lebanon                     386\n",
            "Lithuania                   652\n",
            "Malta                       944\n",
            "Netherlands              200128\n",
            "Norway                    19247\n",
            "Poland                     3653\n",
            "Portugal                  16180\n",
            "RSA                         352\n",
            "Saudi Arabia                 75\n",
            "Singapore                  5234\n",
            "Spain                     26824\n",
            "Sweden                    35637\n",
            "Switzerland               30325\n",
            "USA                        1034\n",
            "United Arab Emirates        982\n",
            "United Kingdom          4263829\n",
            "Unspecified                3300\n",
            "Name: Quantity, dtype: int64\n"
          ]
        }
      ]
    },
    {
      "cell_type": "code",
      "source": [
        "country_stats = df.groupby('Country')['UnitPrice'].agg(['mean', 'sum'])\n",
        "print(country_stats)"
      ],
      "metadata": {
        "colab": {
          "base_uri": "https://localhost:8080/"
        },
        "id": "NQySa8hey-gn",
        "outputId": "931fb8ce-ad5a-4064-82ac-5edb4a70917e"
      },
      "execution_count": null,
      "outputs": [
        {
          "output_type": "stream",
          "name": "stdout",
          "text": [
            "                            mean          sum\n",
            "Country                                      \n",
            "Australia               3.220612     4054.750\n",
            "Austria                 4.243192     1701.520\n",
            "Bahrain                 4.556316       86.570\n",
            "Belgium                 3.644335     7540.130\n",
            "Brazil                  4.456250      142.600\n",
            "Canada                  6.030331      910.580\n",
            "Channel Islands         4.932124     3738.550\n",
            "Cyprus                  6.302363     3920.070\n",
            "Czech Republic          2.938333       88.150\n",
            "Denmark                 3.256941     1266.950\n",
            "EIRE                    5.911077    48447.190\n",
            "European Community      4.820492      294.050\n",
            "Finland                 5.448705     3786.850\n",
            "France                  5.028864    43031.990\n",
            "Germany                 3.966930    37666.000\n",
            "Greece                  4.885548      713.290\n",
            "Hong Kong              42.505208    12241.500\n",
            "Iceland                 2.644011      481.210\n",
            "Israel                  3.633131     1079.040\n",
            "Italy                   4.831121     3879.390\n",
            "Japan                   2.276145      814.860\n",
            "Lebanon                 5.387556      242.440\n",
            "Lithuania               2.841143       99.440\n",
            "Malta                   5.244173      666.010\n",
            "Netherlands             2.738317     6492.550\n",
            "Norway                  6.012026     6529.060\n",
            "Poland                  4.170880     1422.270\n",
            "Portugal                8.582976    13037.540\n",
            "RSA                     4.277586      248.100\n",
            "Saudi Arabia            2.411000       24.110\n",
            "Singapore             109.645808    25108.890\n",
            "Spain                   4.987544    12633.450\n",
            "Sweden                  3.910887     1806.830\n",
            "Switzerland             3.403442     6813.690\n",
            "USA                     2.216426      644.980\n",
            "United Arab Emirates    3.380735      229.890\n",
            "United Kingdom          4.532422  2245715.474\n",
            "Unspecified             2.699574     1204.010\n"
          ]
        }
      ]
    },
    {
      "cell_type": "code",
      "source": [
        "country_stock_group = df.groupby(['Country', 'StockCode'])['Quantity'].sum()\n",
        "print(country_stock_group)"
      ],
      "metadata": {
        "colab": {
          "base_uri": "https://localhost:8080/"
        },
        "id": "itnMw4K1zWZ-",
        "outputId": "278fe970-64ac-4410-d3cc-4bead1a5b7d1"
      },
      "execution_count": null,
      "outputs": [
        {
          "output_type": "stream",
          "name": "stdout",
          "text": [
            "Country      StockCode\n",
            "Australia    15036        600\n",
            "             15056BL        3\n",
            "             16161P       400\n",
            "             16169E        25\n",
            "             20665          6\n",
            "                         ... \n",
            "Unspecified  85180A         2\n",
            "             85180B         1\n",
            "             85212         12\n",
            "             85213         12\n",
            "             85227         10\n",
            "Name: Quantity, Length: 19839, dtype: int64\n"
          ]
        }
      ]
    },
    {
      "cell_type": "code",
      "source": [
        "def total_revenue(group):\n",
        "  return (group['Quantity'] * group['UnitPrice']).sum()\n",
        "\n",
        "revenue_per_country = df.groupby('Country').apply(total_revenue)\n",
        "print(revenue_per_country)"
      ],
      "metadata": {
        "colab": {
          "base_uri": "https://localhost:8080/"
        },
        "id": "3O_zGiCe0BKI",
        "outputId": "f96494a9-8d69-4e50-f3e2-d5b2f9833a09"
      },
      "execution_count": null,
      "outputs": [
        {
          "output_type": "stream",
          "name": "stdout",
          "text": [
            "Country\n",
            "Australia                137077.270\n",
            "Austria                   10154.320\n",
            "Bahrain                     548.400\n",
            "Belgium                   40910.960\n",
            "Brazil                     1143.600\n",
            "Canada                     3666.380\n",
            "Channel Islands           20086.290\n",
            "Cyprus                    12946.290\n",
            "Czech Republic              707.720\n",
            "Denmark                   18768.140\n",
            "EIRE                     263276.820\n",
            "European Community         1291.750\n",
            "Finland                   22326.740\n",
            "France                   197403.900\n",
            "Germany                  221698.210\n",
            "Greece                     4710.520\n",
            "Hong Kong                 10117.040\n",
            "Iceland                    4310.000\n",
            "Israel                     7907.820\n",
            "Italy                     16890.510\n",
            "Japan                     35340.620\n",
            "Lebanon                    1693.880\n",
            "Lithuania                  1661.060\n",
            "Malta                      2505.470\n",
            "Netherlands              284661.540\n",
            "Norway                    35163.460\n",
            "Poland                     7213.140\n",
            "Portugal                  29367.020\n",
            "RSA                        1002.310\n",
            "Saudi Arabia                131.170\n",
            "Singapore                  9120.390\n",
            "Spain                     54774.580\n",
            "Sweden                    36595.910\n",
            "Switzerland               56385.350\n",
            "USA                        1730.920\n",
            "United Arab Emirates       1902.280\n",
            "United Kingdom          8187806.364\n",
            "Unspecified                4749.790\n",
            "dtype: float64\n"
          ]
        }
      ]
    },
    {
      "cell_type": "markdown",
      "source": [
        "# 19 Filtrado de datos"
      ],
      "metadata": {
        "id": "3DJZIwii_ET6"
      }
    },
    {
      "cell_type": "code",
      "source": [
        "import pandas as pd\n",
        "\n",
        "# Leer el dataset de ventas desde un archivo CSV\n",
        "file_path = \"/content/online_retail.csv\"\n",
        "sales_data = pd.read_csv(file_path)\n",
        "\n",
        "# Convertir la columna 'InvoiceDate' a tipo datetime\n",
        "sales_data['InvoiceDate'] = pd.to_datetime(sales_data['InvoiceDate'])\n",
        "\n",
        "# Eliminar filas con valores faltantes en las columnas críticas\n",
        "sales_data.dropna(subset=['CustomerID', 'InvoiceDate'], inplace=True)\n",
        "\n",
        "# Crear una nueva columna 'TotalPrice'\n",
        "sales_data['TotalPrice'] = sales_data['Quantity'] * sales_data['UnitPrice']\n",
        "\n",
        "print(sales_data.head())\n"
      ],
      "metadata": {
        "colab": {
          "base_uri": "https://localhost:8080/"
        },
        "id": "B5qc9HMv_LHa",
        "outputId": "47e255a6-f28c-4589-8f77-67e5c9b9df36"
      },
      "execution_count": null,
      "outputs": [
        {
          "output_type": "stream",
          "name": "stdout",
          "text": [
            "  InvoiceNo StockCode                          Description  Quantity  \\\n",
            "0    536365    85123A   WHITE HANGING HEART T-LIGHT HOLDER         6   \n",
            "1    536365     71053                  WHITE METAL LANTERN         6   \n",
            "2    536365    84406B       CREAM CUPID HEARTS COAT HANGER         8   \n",
            "3    536365    84029G  KNITTED UNION FLAG HOT WATER BOTTLE         6   \n",
            "4    536365    84029E       RED WOOLLY HOTTIE WHITE HEART.         6   \n",
            "\n",
            "          InvoiceDate  UnitPrice  CustomerID         Country  TotalPrice  \n",
            "0 2010-12-01 08:26:00       2.55     17850.0  United Kingdom       15.30  \n",
            "1 2010-12-01 08:26:00       3.39     17850.0  United Kingdom       20.34  \n",
            "2 2010-12-01 08:26:00       2.75     17850.0  United Kingdom       22.00  \n",
            "3 2010-12-01 08:26:00       3.39     17850.0  United Kingdom       20.34  \n",
            "4 2010-12-01 08:26:00       3.39     17850.0  United Kingdom       20.34  \n"
          ]
        }
      ]
    },
    {
      "cell_type": "code",
      "source": [
        "#Filtrar ventas en el Reino Unido - UK\n",
        "uk_sales = sales_data[sales_data['Country'] == 'United Kingdom']\n",
        "print(uk_sales)"
      ],
      "metadata": {
        "colab": {
          "base_uri": "https://localhost:8080/"
        },
        "id": "HO2obI00RloX",
        "outputId": "feee6bbd-60b7-436e-a03c-b1f056d5dae3"
      },
      "execution_count": null,
      "outputs": [
        {
          "output_type": "stream",
          "name": "stdout",
          "text": [
            "       InvoiceNo StockCode                          Description  Quantity  \\\n",
            "0         536365    85123A   WHITE HANGING HEART T-LIGHT HOLDER         6   \n",
            "1         536365     71053                  WHITE METAL LANTERN         6   \n",
            "2         536365    84406B       CREAM CUPID HEARTS COAT HANGER         8   \n",
            "3         536365    84029G  KNITTED UNION FLAG HOT WATER BOTTLE         6   \n",
            "4         536365    84029E       RED WOOLLY HOTTIE WHITE HEART.         6   \n",
            "...          ...       ...                                  ...       ...   \n",
            "541889    581585     22466       FAIRY TALE COTTAGE NIGHT LIGHT        12   \n",
            "541890    581586     22061  LARGE CAKE STAND  HANGING STRAWBERY         8   \n",
            "541891    581586     23275     SET OF 3 HANGING OWLS OLLIE BEAK        24   \n",
            "541892    581586     21217        RED RETROSPOT ROUND CAKE TINS        24   \n",
            "541893    581586     20685                DOORMAT RED RETROSPOT        10   \n",
            "\n",
            "               InvoiceDate  UnitPrice  CustomerID         Country  TotalPrice  \n",
            "0      2010-12-01 08:26:00       2.55     17850.0  United Kingdom       15.30  \n",
            "1      2010-12-01 08:26:00       3.39     17850.0  United Kingdom       20.34  \n",
            "2      2010-12-01 08:26:00       2.75     17850.0  United Kingdom       22.00  \n",
            "3      2010-12-01 08:26:00       3.39     17850.0  United Kingdom       20.34  \n",
            "4      2010-12-01 08:26:00       3.39     17850.0  United Kingdom       20.34  \n",
            "...                    ...        ...         ...             ...         ...  \n",
            "541889 2011-12-09 12:31:00       1.95     15804.0  United Kingdom       23.40  \n",
            "541890 2011-12-09 12:49:00       2.95     13113.0  United Kingdom       23.60  \n",
            "541891 2011-12-09 12:49:00       1.25     13113.0  United Kingdom       30.00  \n",
            "541892 2011-12-09 12:49:00       8.95     13113.0  United Kingdom      214.80  \n",
            "541893 2011-12-09 12:49:00       7.08     13113.0  United Kingdom       70.80  \n",
            "\n",
            "[361878 rows x 9 columns]\n"
          ]
        }
      ]
    },
    {
      "cell_type": "code",
      "source": [
        "high_quantity_sales = sales_data[sales_data['Quantity'] > 40]\n",
        "print(high_quantity_sales)"
      ],
      "metadata": {
        "colab": {
          "base_uri": "https://localhost:8080/"
        },
        "id": "WSm9J1LISqhC",
        "outputId": "08d2e93a-7cdd-48e8-8f3f-3de7bac12e26"
      },
      "execution_count": null,
      "outputs": [
        {
          "output_type": "stream",
          "name": "stdout",
          "text": [
            "       InvoiceNo StockCode                         Description  Quantity  \\\n",
            "31        536370     10002         INFLATABLE POLITICAL GLOBE         48   \n",
            "46        536371     22086     PAPER CHAIN KIT 50'S CHRISTMAS         80   \n",
            "82        536376     22114   HOT WATER BOTTLE TEA AND SYMPATHY        48   \n",
            "83        536376     21733    RED HANGING HEART T-LIGHT HOLDER        64   \n",
            "96        536378     21212     PACK OF 72 RETROSPOT CAKE CASES       120   \n",
            "...          ...       ...                                 ...       ...   \n",
            "541746    581571     23167      SMALL CERAMIC TOP STORAGE JAR         96   \n",
            "541747    581571     21314       SMALL GLASS HEART TRINKET POT        48   \n",
            "541751    581572     23328  SET 6 SCHOOL MILK BOTTLES IN CRATE        48   \n",
            "541867    581584     20832    RED FLOCK LOVE HEART PHOTO FRAME        72   \n",
            "541868    581584     85038     6 CHOCOLATE LOVE HEART T-LIGHTS        48   \n",
            "\n",
            "               InvoiceDate  UnitPrice  CustomerID         Country  TotalPrice  \n",
            "31     2010-12-01 08:45:00       0.85     12583.0          France       40.80  \n",
            "46     2010-12-01 09:00:00       2.55     13748.0  United Kingdom      204.00  \n",
            "82     2010-12-01 09:32:00       3.45     15291.0  United Kingdom      165.60  \n",
            "83     2010-12-01 09:32:00       2.55     15291.0  United Kingdom      163.20  \n",
            "96     2010-12-01 09:37:00       0.42     14688.0  United Kingdom       50.40  \n",
            "...                    ...        ...         ...             ...         ...  \n",
            "541746 2011-12-09 12:00:00       0.69     15311.0  United Kingdom       66.24  \n",
            "541747 2011-12-09 12:00:00       1.85     15311.0  United Kingdom       88.80  \n",
            "541751 2011-12-09 12:08:00       3.39     16705.0  United Kingdom      162.72  \n",
            "541867 2011-12-09 12:25:00       0.72     13777.0  United Kingdom       51.84  \n",
            "541868 2011-12-09 12:25:00       1.85     13777.0  United Kingdom       88.80  \n",
            "\n",
            "[18591 rows x 9 columns]\n"
          ]
        }
      ]
    },
    {
      "cell_type": "code",
      "source": [
        "uk_high_quantity_sales = sales_data[(sales_data['Country'] == 'United Kingdom') &\n",
        "                                    (sales_data['Quantity'] > 300)]\n",
        "print(uk_high_quantity_sales)"
      ],
      "metadata": {
        "colab": {
          "base_uri": "https://localhost:8080/"
        },
        "id": "p89QdTFcTtCJ",
        "outputId": "a77dbe0a-1426-4c17-840e-9f5a834fff4c"
      },
      "execution_count": null,
      "outputs": [
        {
          "output_type": "stream",
          "name": "stdout",
          "text": [
            "       InvoiceNo StockCode                     Description  Quantity  \\\n",
            "181       536387     22466   FAIRY TALE COTTAGE NIGHTLIGHT       432   \n",
            "182       536387     21731   RED TOADSTOOL LED NIGHT LIGHT       432   \n",
            "730       536437     17021          NAMASTE SWAGAT INCENSE       600   \n",
            "870       536477     21137        BLACK RECORD COVER FRAME       480   \n",
            "2364      536584    84029E  RED WOOLLY HOTTIE WHITE HEART.       384   \n",
            "...          ...       ...                             ...       ...   \n",
            "540060    581457     22189         CREAM HEART CARD HOLDER       324   \n",
            "540061    581457     23543             WALL ART KEEP CALM        698   \n",
            "540070    581458     22197                  POPCORN HOLDER      1500   \n",
            "540071    581459     22197                  POPCORN HOLDER      1200   \n",
            "540421    581483     23843     PAPER CRAFT , LITTLE BIRDIE     80995   \n",
            "\n",
            "               InvoiceDate  UnitPrice  CustomerID         Country  TotalPrice  \n",
            "181    2010-12-01 09:58:00       1.45     16029.0  United Kingdom      626.40  \n",
            "182    2010-12-01 09:58:00       1.25     16029.0  United Kingdom      540.00  \n",
            "730    2010-12-01 12:12:00       0.24     13694.0  United Kingdom      144.00  \n",
            "870    2010-12-01 12:27:00       3.39     16210.0  United Kingdom     1627.20  \n",
            "2364   2010-12-01 16:22:00       2.95     13777.0  United Kingdom     1132.80  \n",
            "...                    ...        ...         ...             ...         ...  \n",
            "540060 2011-12-08 18:43:00       3.39     18102.0  United Kingdom     1098.36  \n",
            "540061 2011-12-08 18:43:00       4.15     18102.0  United Kingdom     2896.70  \n",
            "540070 2011-12-08 18:45:00       0.72     17949.0  United Kingdom     1080.00  \n",
            "540071 2011-12-08 18:46:00       0.72     17949.0  United Kingdom      864.00  \n",
            "540421 2011-12-09 09:15:00       2.08     16446.0  United Kingdom   168469.60  \n",
            "\n",
            "[727 rows x 9 columns]\n"
          ]
        }
      ]
    },
    {
      "cell_type": "code",
      "source": [
        "sales_2011 = sales_data[sales_data['InvoiceDate'].dt.year == 2011]\n",
        "print(sales_2011)"
      ],
      "metadata": {
        "colab": {
          "base_uri": "https://localhost:8080/"
        },
        "id": "Nh5T8JInUgyo",
        "outputId": "5b75c1a4-9f0a-462e-a324-4d02e0c079f8"
      },
      "execution_count": null,
      "outputs": [
        {
          "output_type": "stream",
          "name": "stdout",
          "text": [
            "       InvoiceNo StockCode                      Description  Quantity  \\\n",
            "42481     539993     22386          JUMBO BAG PINK POLKADOT        10   \n",
            "42482     539993     21499               BLUE POLKADOT WRAP        25   \n",
            "42483     539993     21498              RED RETROSPOT WRAP         25   \n",
            "42484     539993     22379         RECYCLING BAG RETROSPOT          5   \n",
            "42485     539993     20718        RED RETROSPOT SHOPPER BAG        10   \n",
            "...          ...       ...                              ...       ...   \n",
            "541904    581587     22613      PACK OF 20 SPACEBOY NAPKINS        12   \n",
            "541905    581587     22899     CHILDREN'S APRON DOLLY GIRL          6   \n",
            "541906    581587     23254    CHILDRENS CUTLERY DOLLY GIRL          4   \n",
            "541907    581587     23255  CHILDRENS CUTLERY CIRCUS PARADE         4   \n",
            "541908    581587     22138    BAKING SET 9 PIECE RETROSPOT          3   \n",
            "\n",
            "               InvoiceDate  UnitPrice  CustomerID         Country  TotalPrice  \n",
            "42481  2011-01-04 10:00:00       1.95     13313.0  United Kingdom       19.50  \n",
            "42482  2011-01-04 10:00:00       0.42     13313.0  United Kingdom       10.50  \n",
            "42483  2011-01-04 10:00:00       0.42     13313.0  United Kingdom       10.50  \n",
            "42484  2011-01-04 10:00:00       2.10     13313.0  United Kingdom       10.50  \n",
            "42485  2011-01-04 10:00:00       1.25     13313.0  United Kingdom       12.50  \n",
            "...                    ...        ...         ...             ...         ...  \n",
            "541904 2011-12-09 12:50:00       0.85     12680.0          France       10.20  \n",
            "541905 2011-12-09 12:50:00       2.10     12680.0          France       12.60  \n",
            "541906 2011-12-09 12:50:00       4.15     12680.0          France       16.60  \n",
            "541907 2011-12-09 12:50:00       4.15     12680.0          France       16.60  \n",
            "541908 2011-12-09 12:50:00       4.95     12680.0          France       14.85  \n",
            "\n",
            "[379979 rows x 9 columns]\n"
          ]
        }
      ]
    },
    {
      "cell_type": "code",
      "source": [
        "sales_2010 = sales_data[sales_data['InvoiceDate'].dt.year == 2010]\n",
        "print(sales_2010)"
      ],
      "metadata": {
        "colab": {
          "base_uri": "https://localhost:8080/"
        },
        "id": "Jy1iyfsqUy0G",
        "outputId": "c4a57a33-506b-4c86-f730-05537eb0688b"
      },
      "execution_count": null,
      "outputs": [
        {
          "output_type": "stream",
          "name": "stdout",
          "text": [
            "      InvoiceNo StockCode                          Description  Quantity  \\\n",
            "0        536365    85123A   WHITE HANGING HEART T-LIGHT HOLDER         6   \n",
            "1        536365     71053                  WHITE METAL LANTERN         6   \n",
            "2        536365    84406B       CREAM CUPID HEARTS COAT HANGER         8   \n",
            "3        536365    84029G  KNITTED UNION FLAG HOT WATER BOTTLE         6   \n",
            "4        536365    84029E       RED WOOLLY HOTTIE WHITE HEART.         6   \n",
            "...         ...       ...                                  ...       ...   \n",
            "42448    539988     84380    SET OF 3 BUTTERFLY COOKIE CUTTERS         1   \n",
            "42449    539988    84849D                HOT BATHS SOAP HOLDER         1   \n",
            "42450    539988    84849B               FAIRY SOAP SOAP HOLDER         1   \n",
            "42451    539988     22854          CREAM SWEETHEART EGG HOLDER         2   \n",
            "42452    539988    47559B                  TEA TIME OVEN GLOVE         2   \n",
            "\n",
            "              InvoiceDate  UnitPrice  CustomerID         Country  TotalPrice  \n",
            "0     2010-12-01 08:26:00       2.55     17850.0  United Kingdom       15.30  \n",
            "1     2010-12-01 08:26:00       3.39     17850.0  United Kingdom       20.34  \n",
            "2     2010-12-01 08:26:00       2.75     17850.0  United Kingdom       22.00  \n",
            "3     2010-12-01 08:26:00       3.39     17850.0  United Kingdom       20.34  \n",
            "4     2010-12-01 08:26:00       3.39     17850.0  United Kingdom       20.34  \n",
            "...                   ...        ...         ...             ...         ...  \n",
            "42448 2010-12-23 16:06:00       1.25     18116.0  United Kingdom        1.25  \n",
            "42449 2010-12-23 16:06:00       1.69     18116.0  United Kingdom        1.69  \n",
            "42450 2010-12-23 16:06:00       1.69     18116.0  United Kingdom        1.69  \n",
            "42451 2010-12-23 16:06:00       4.95     18116.0  United Kingdom        9.90  \n",
            "42452 2010-12-23 16:06:00       1.25     18116.0  United Kingdom        2.50  \n",
            "\n",
            "[26850 rows x 9 columns]\n"
          ]
        }
      ]
    },
    {
      "cell_type": "code",
      "source": [
        "sales_dec_2010 = sales_data[(sales_data['InvoiceDate'].dt.year == 2010) &\n",
        "                            (sales_data['InvoiceDate'].dt.month == 12)]\n",
        "print(sales_dec_2010)"
      ],
      "metadata": {
        "colab": {
          "base_uri": "https://localhost:8080/"
        },
        "id": "VdloxsO_VQxF",
        "outputId": "491117a3-2b2d-410b-f246-5f50e2df8915"
      },
      "execution_count": null,
      "outputs": [
        {
          "output_type": "stream",
          "name": "stdout",
          "text": [
            "      InvoiceNo StockCode                          Description  Quantity  \\\n",
            "0        536365    85123A   WHITE HANGING HEART T-LIGHT HOLDER         6   \n",
            "1        536365     71053                  WHITE METAL LANTERN         6   \n",
            "2        536365    84406B       CREAM CUPID HEARTS COAT HANGER         8   \n",
            "3        536365    84029G  KNITTED UNION FLAG HOT WATER BOTTLE         6   \n",
            "4        536365    84029E       RED WOOLLY HOTTIE WHITE HEART.         6   \n",
            "...         ...       ...                                  ...       ...   \n",
            "42448    539988     84380    SET OF 3 BUTTERFLY COOKIE CUTTERS         1   \n",
            "42449    539988    84849D                HOT BATHS SOAP HOLDER         1   \n",
            "42450    539988    84849B               FAIRY SOAP SOAP HOLDER         1   \n",
            "42451    539988     22854          CREAM SWEETHEART EGG HOLDER         2   \n",
            "42452    539988    47559B                  TEA TIME OVEN GLOVE         2   \n",
            "\n",
            "              InvoiceDate  UnitPrice  CustomerID         Country  TotalPrice  \n",
            "0     2010-12-01 08:26:00       2.55     17850.0  United Kingdom       15.30  \n",
            "1     2010-12-01 08:26:00       3.39     17850.0  United Kingdom       20.34  \n",
            "2     2010-12-01 08:26:00       2.75     17850.0  United Kingdom       22.00  \n",
            "3     2010-12-01 08:26:00       3.39     17850.0  United Kingdom       20.34  \n",
            "4     2010-12-01 08:26:00       3.39     17850.0  United Kingdom       20.34  \n",
            "...                   ...        ...         ...             ...         ...  \n",
            "42448 2010-12-23 16:06:00       1.25     18116.0  United Kingdom        1.25  \n",
            "42449 2010-12-23 16:06:00       1.69     18116.0  United Kingdom        1.69  \n",
            "42450 2010-12-23 16:06:00       1.69     18116.0  United Kingdom        1.69  \n",
            "42451 2010-12-23 16:06:00       4.95     18116.0  United Kingdom        9.90  \n",
            "42452 2010-12-23 16:06:00       1.25     18116.0  United Kingdom        2.50  \n",
            "\n",
            "[26850 rows x 9 columns]\n"
          ]
        }
      ]
    },
    {
      "cell_type": "markdown",
      "source": [
        "# 20 Pivot Table y Reshape"
      ],
      "metadata": {
        "id": "tb_pFxQRZ26x"
      }
    },
    {
      "cell_type": "code",
      "source": [
        "pivot_table = pd.pivot_table(sales_data, values = 'Quantity', index = 'Country',\n",
        "                             columns='StockCode', aggfunc='sum')\n",
        "print(pivot_table)"
      ],
      "metadata": {
        "colab": {
          "base_uri": "https://localhost:8080/"
        },
        "id": "XPoIXq-JZ5HD",
        "outputId": "d9beaafb-eb2e-40bf-d2fa-7fda35b6a9f3"
      },
      "execution_count": null,
      "outputs": [
        {
          "output_type": "stream",
          "name": "stdout",
          "text": [
            "StockCode              10002   10080   10120  10123C  10124A  10124G   10125  \\\n",
            "Country                                                                        \n",
            "Australia                NaN     NaN     NaN     NaN     NaN     NaN     NaN   \n",
            "Austria                  NaN     NaN     NaN     NaN     NaN     NaN     NaN   \n",
            "Bahrain                  NaN     NaN     NaN     NaN     NaN     NaN     NaN   \n",
            "Belgium                  NaN     NaN     NaN     NaN     NaN     NaN     NaN   \n",
            "Brazil                   NaN     NaN     NaN     NaN     NaN     NaN     NaN   \n",
            "Canada                   NaN     NaN     NaN     NaN     NaN     NaN     NaN   \n",
            "Channel Islands          NaN     NaN     NaN     NaN     NaN     NaN     NaN   \n",
            "Cyprus                   NaN     NaN     NaN     NaN     NaN     NaN     NaN   \n",
            "Czech Republic           NaN     NaN     NaN     NaN     NaN     NaN     NaN   \n",
            "Denmark                  NaN     NaN     NaN     NaN     NaN     NaN     NaN   \n",
            "EIRE                  $12.00     NaN     NaN     NaN     NaN     NaN     NaN   \n",
            "European Community       NaN     NaN     NaN     NaN     NaN     NaN     NaN   \n",
            "Finland                  NaN     NaN     NaN     NaN     NaN     NaN     NaN   \n",
            "France               $372.00     NaN  $10.00     NaN     NaN     NaN $470.00   \n",
            "Germany                $1.00     NaN     NaN     NaN     NaN     NaN $120.00   \n",
            "Greece                   NaN     NaN     NaN     NaN     NaN     NaN     NaN   \n",
            "Iceland                  NaN     NaN     NaN     NaN     NaN     NaN     NaN   \n",
            "Israel                   NaN     NaN     NaN     NaN     NaN     NaN     NaN   \n",
            "Italy                    NaN     NaN     NaN     NaN     NaN     NaN     NaN   \n",
            "Japan                  $1.00     NaN     NaN     NaN     NaN     NaN     NaN   \n",
            "Lebanon                  NaN     NaN     NaN     NaN     NaN     NaN     NaN   \n",
            "Lithuania                NaN     NaN     NaN     NaN     NaN     NaN     NaN   \n",
            "Malta                    NaN     NaN     NaN     NaN     NaN     NaN     NaN   \n",
            "Netherlands              NaN     NaN     NaN     NaN     NaN     NaN     NaN   \n",
            "Norway                   NaN     NaN     NaN     NaN     NaN     NaN     NaN   \n",
            "Poland                   NaN     NaN     NaN     NaN     NaN     NaN     NaN   \n",
            "Portugal                 NaN     NaN     NaN     NaN     NaN     NaN     NaN   \n",
            "RSA                      NaN     NaN     NaN     NaN     NaN     NaN     NaN   \n",
            "Saudi Arabia             NaN     NaN     NaN     NaN     NaN     NaN     NaN   \n",
            "Singapore                NaN     NaN     NaN     NaN     NaN     NaN     NaN   \n",
            "Spain                 $24.00     NaN     NaN     NaN     NaN     NaN     NaN   \n",
            "Sweden                   NaN     NaN     NaN     NaN     NaN     NaN     NaN   \n",
            "Switzerland           $12.00     NaN     NaN     NaN     NaN     NaN  $20.00   \n",
            "USA                      NaN     NaN     NaN     NaN     NaN     NaN     NaN   \n",
            "United Arab Emirates     NaN     NaN     NaN     NaN     NaN     NaN     NaN   \n",
            "United Kingdom       $401.00 $291.00 $183.00   $5.00  $16.00  $17.00 $616.00   \n",
            "Unspecified              NaN     NaN     NaN     NaN     NaN     NaN     NaN   \n",
            "\n",
            "StockCode                10133     10135   11001  ...  90214Y  90214Z  \\\n",
            "Country                                           ...                   \n",
            "Australia                  NaN       NaN     NaN  ...     NaN     NaN   \n",
            "Austria                    NaN       NaN     NaN  ...     NaN     NaN   \n",
            "Bahrain                    NaN       NaN     NaN  ...     NaN     NaN   \n",
            "Belgium                    NaN       NaN     NaN  ...     NaN     NaN   \n",
            "Brazil                     NaN       NaN     NaN  ...     NaN     NaN   \n",
            "Canada                  $40.00    $20.00     NaN  ...     NaN     NaN   \n",
            "Channel Islands            NaN       NaN     NaN  ...     NaN     NaN   \n",
            "Cyprus                     NaN       NaN     NaN  ...     NaN     NaN   \n",
            "Czech Republic             NaN       NaN     NaN  ...     NaN     NaN   \n",
            "Denmark                    NaN       NaN     NaN  ...     NaN     NaN   \n",
            "EIRE                    $40.00    $60.00  $48.00  ...     NaN     NaN   \n",
            "European Community         NaN       NaN     NaN  ...     NaN     NaN   \n",
            "Finland                    NaN       NaN     NaN  ...     NaN     NaN   \n",
            "France                     NaN    $10.00  $16.00  ...     NaN     NaN   \n",
            "Germany                    NaN   $200.00  $32.00  ...     NaN     NaN   \n",
            "Greece                     NaN       NaN     NaN  ...     NaN     NaN   \n",
            "Iceland                    NaN       NaN     NaN  ...     NaN     NaN   \n",
            "Israel                  $20.00       NaN     NaN  ...     NaN     NaN   \n",
            "Italy                      NaN       NaN     NaN  ...     NaN     NaN   \n",
            "Japan                      NaN       NaN     NaN  ...     NaN     NaN   \n",
            "Lebanon                    NaN       NaN     NaN  ...     NaN     NaN   \n",
            "Lithuania                  NaN       NaN     NaN  ...     NaN     NaN   \n",
            "Malta                      NaN       NaN     NaN  ...     NaN     NaN   \n",
            "Netherlands                NaN       NaN     NaN  ...     NaN     NaN   \n",
            "Norway                     NaN    $10.00  $16.00  ...     NaN     NaN   \n",
            "Poland                     NaN       NaN     NaN  ...     NaN     NaN   \n",
            "Portugal                $20.00       NaN  $16.00  ...     NaN     NaN   \n",
            "RSA                        NaN       NaN     NaN  ...     NaN     NaN   \n",
            "Saudi Arabia               NaN       NaN     NaN  ...     NaN     NaN   \n",
            "Singapore                  NaN       NaN     NaN  ...     NaN     NaN   \n",
            "Spain                      NaN       NaN  $16.00  ...     NaN     NaN   \n",
            "Sweden                     NaN       NaN     NaN  ...     NaN     NaN   \n",
            "Switzerland             $10.00       NaN     NaN  ...     NaN     NaN   \n",
            "USA                        NaN       NaN     NaN  ...     NaN     NaN   \n",
            "United Arab Emirates       NaN       NaN     NaN  ...     NaN     NaN   \n",
            "United Kingdom       $2,244.00 $1,637.00 $923.00  ...  $61.00  $12.00   \n",
            "Unspecified                NaN       NaN     NaN  ...     NaN     NaN   \n",
            "\n",
            "StockCode             BANK CHARGES     C2    CRUK          D    DOT         M  \\\n",
            "Country                                                                         \n",
            "Australia                      NaN    NaN     NaN        NaN    NaN       NaN   \n",
            "Austria                        NaN    NaN     NaN        NaN    NaN       NaN   \n",
            "Bahrain                        NaN    NaN     NaN        NaN    NaN       NaN   \n",
            "Belgium                        NaN    NaN     NaN        NaN    NaN       NaN   \n",
            "Brazil                         NaN    NaN     NaN        NaN    NaN       NaN   \n",
            "Canada                         NaN    NaN     NaN        NaN    NaN       NaN   \n",
            "Channel Islands                NaN  $3.00     NaN        NaN    NaN     $0.00   \n",
            "Cyprus                         NaN    NaN     NaN        NaN    NaN     $0.00   \n",
            "Czech Republic                 NaN    NaN     NaN        NaN    NaN       NaN   \n",
            "Denmark                        NaN    NaN     NaN        NaN    NaN       NaN   \n",
            "EIRE                           NaN $97.00     NaN     $-1.00    NaN    $-1.00   \n",
            "European Community             NaN    NaN     NaN        NaN    NaN       NaN   \n",
            "Finland                        NaN    NaN     NaN        NaN    NaN     $2.00   \n",
            "France                         NaN  $3.00     NaN        NaN    NaN   $-16.00   \n",
            "Germany                        NaN    NaN     NaN        NaN    NaN     $2.00   \n",
            "Greece                         NaN    NaN     NaN        NaN    NaN       NaN   \n",
            "Iceland                        NaN    NaN     NaN        NaN    NaN       NaN   \n",
            "Israel                         NaN    NaN     NaN        NaN    NaN       NaN   \n",
            "Italy                          NaN    NaN     NaN     $-1.00    NaN    $-1.00   \n",
            "Japan                          NaN    NaN     NaN        NaN    NaN    $-3.00   \n",
            "Lebanon                        NaN    NaN     NaN        NaN    NaN       NaN   \n",
            "Lithuania                      NaN    NaN     NaN        NaN    NaN       NaN   \n",
            "Malta                          NaN    NaN     NaN        NaN    NaN       NaN   \n",
            "Netherlands                    NaN    NaN     NaN     $-1.00    NaN  $-480.00   \n",
            "Norway                         NaN    NaN     NaN        NaN    NaN     $0.00   \n",
            "Poland                         NaN    NaN     NaN        NaN    NaN       NaN   \n",
            "Portugal                       NaN    NaN     NaN        NaN    NaN     $1.00   \n",
            "RSA                            NaN    NaN     NaN        NaN    NaN     $1.00   \n",
            "Saudi Arabia                   NaN    NaN     NaN        NaN    NaN       NaN   \n",
            "Singapore                      NaN    NaN     NaN        NaN    NaN     $0.00   \n",
            "Spain                          NaN    NaN     NaN        NaN    NaN    $-3.00   \n",
            "Sweden                         NaN    NaN     NaN        NaN    NaN     $1.00   \n",
            "Switzerland                    NaN    NaN     NaN        NaN    NaN       NaN   \n",
            "USA                            NaN    NaN     NaN        NaN    NaN       NaN   \n",
            "United Arab Emirates           NaN    NaN     NaN        NaN    NaN       NaN   \n",
            "United Kingdom              $12.00 $30.00 $-16.00 $-1,191.00 $16.00 $3,681.00   \n",
            "Unspecified                    NaN    NaN     NaN        NaN    NaN       NaN   \n",
            "\n",
            "StockCode             PADS      POST  \n",
            "Country                               \n",
            "Australia              NaN     $0.00  \n",
            "Austria                NaN    $37.00  \n",
            "Bahrain                NaN       NaN  \n",
            "Belgium                NaN   $272.00  \n",
            "Brazil                 NaN       NaN  \n",
            "Canada                 NaN     $1.00  \n",
            "Channel Islands        NaN       NaN  \n",
            "Cyprus                 NaN     $1.00  \n",
            "Czech Republic         NaN     $0.00  \n",
            "Denmark                NaN    $41.00  \n",
            "EIRE                   NaN       NaN  \n",
            "European Community     NaN     $9.00  \n",
            "Finland                NaN    $89.00  \n",
            "France                 NaN   $803.00  \n",
            "Germany                NaN $1,104.00  \n",
            "Greece                 NaN     $6.00  \n",
            "Iceland                NaN       NaN  \n",
            "Israel                 NaN       NaN  \n",
            "Italy                  NaN    $44.00  \n",
            "Japan                  NaN       NaN  \n",
            "Lebanon                NaN       NaN  \n",
            "Lithuania              NaN       NaN  \n",
            "Malta                  NaN    $10.00  \n",
            "Netherlands            NaN    $99.00  \n",
            "Norway                 NaN    $57.00  \n",
            "Poland                 NaN     $9.00  \n",
            "Portugal               NaN    $97.00  \n",
            "RSA                    NaN       NaN  \n",
            "Saudi Arabia           NaN       NaN  \n",
            "Singapore              NaN       NaN  \n",
            "Spain                  NaN   $209.00  \n",
            "Sweden                 NaN    $37.00  \n",
            "Switzerland            NaN    $97.00  \n",
            "USA                    NaN       NaN  \n",
            "United Arab Emirates   NaN     $1.00  \n",
            "United Kingdom       $4.00   $-21.00  \n",
            "Unspecified            NaN       NaN  \n",
            "\n",
            "[37 rows x 3684 columns]\n"
          ]
        }
      ]
    },
    {
      "cell_type": "code",
      "source": [
        "df = pd.DataFrame({\n",
        "    'A': ['foo', 'bar', 'baz'],\n",
        "    'B': [1, 2, 3],\n",
        "    'C': [4, 5, 6]\n",
        "})\n",
        "print(df)"
      ],
      "metadata": {
        "colab": {
          "base_uri": "https://localhost:8080/"
        },
        "id": "qzebm6u-cKyQ",
        "outputId": "bcf5672b-1845-4691-c4e8-aff82707a73c"
      },
      "execution_count": null,
      "outputs": [
        {
          "output_type": "stream",
          "name": "stdout",
          "text": [
            "     A  B  C\n",
            "0  foo  1  4\n",
            "1  bar  2  5\n",
            "2  baz  3  6\n"
          ]
        }
      ]
    },
    {
      "cell_type": "code",
      "source": [
        "df_stacked = df.stack()\n",
        "print(df_stacked)"
      ],
      "metadata": {
        "colab": {
          "base_uri": "https://localhost:8080/"
        },
        "id": "Xu8HOVhDcnoB",
        "outputId": "f2d8204d-feda-4faf-f832-3ed4043b86a2"
      },
      "execution_count": null,
      "outputs": [
        {
          "output_type": "stream",
          "name": "stdout",
          "text": [
            "0  A    foo\n",
            "   B      1\n",
            "   C      4\n",
            "1  A    bar\n",
            "   B      2\n",
            "   C      5\n",
            "2  A    baz\n",
            "   B      3\n",
            "   C      6\n",
            "dtype: object\n"
          ]
        }
      ]
    },
    {
      "cell_type": "code",
      "source": [
        "df_unstacked = df_stacked.unstack()\n",
        "print(df_unstacked)"
      ],
      "metadata": {
        "colab": {
          "base_uri": "https://localhost:8080/"
        },
        "id": "cGmQa8Nhc3y9",
        "outputId": "f7e6f56f-7868-4bc5-a01e-d61669165f0e"
      },
      "execution_count": null,
      "outputs": [
        {
          "output_type": "stream",
          "name": "stdout",
          "text": [
            "     A  B  C\n",
            "0  foo  1  4\n",
            "1  bar  2  5\n",
            "2  baz  3  6\n"
          ]
        }
      ]
    },
    {
      "cell_type": "markdown",
      "source": [
        "# 21 Uniones"
      ],
      "metadata": {
        "id": "XeK48SxxUuHr"
      }
    },
    {
      "cell_type": "code",
      "source": [
        "import pandas as pd\n",
        "\n",
        "# Crear DataFrames de ejemplo\n",
        "df1 = pd.DataFrame({\n",
        "    'key': ['A', 'B', 'C'],\n",
        "    'value1': [1, 2, 3]\n",
        "})\n",
        "\n",
        "df2 = pd.DataFrame({\n",
        "    'key': ['B', 'C', 'D'],\n",
        "    'value2': [4, 5, 6]\n",
        "})\n",
        "print(df1)\n",
        "print(df2)"
      ],
      "metadata": {
        "colab": {
          "base_uri": "https://localhost:8080/"
        },
        "id": "f5myeQS4Uw3j",
        "outputId": "3d1d523d-cb83-4411-f5b4-368b69146516"
      },
      "execution_count": 20,
      "outputs": [
        {
          "output_type": "stream",
          "name": "stdout",
          "text": [
            "  key  value1\n",
            "0   A       1\n",
            "1   B       2\n",
            "2   C       3\n",
            "  key  value2\n",
            "0   B       4\n",
            "1   C       5\n",
            "2   D       6\n"
          ]
        }
      ]
    },
    {
      "cell_type": "code",
      "source": [
        "inner_merged = pd.merge(df1, df2, on='key', how='inner')\n",
        "print(inner_merged)"
      ],
      "metadata": {
        "colab": {
          "base_uri": "https://localhost:8080/"
        },
        "id": "N9mfk3TuUz4j",
        "outputId": "9c1ab028-452f-4a5b-9f18-117abe205607"
      },
      "execution_count": 21,
      "outputs": [
        {
          "output_type": "stream",
          "name": "stdout",
          "text": [
            "  key  value1  value2\n",
            "0   B       2       4\n",
            "1   C       3       5\n"
          ]
        }
      ]
    },
    {
      "cell_type": "code",
      "source": [
        "outer_merged = pd.merge(df1, df2, on='key', how= 'outer')\n",
        "print(outer_merged)"
      ],
      "metadata": {
        "colab": {
          "base_uri": "https://localhost:8080/"
        },
        "id": "3UqbTjZzU1ax",
        "outputId": "211f1523-e140-40e8-d502-26f32ea9e99f"
      },
      "execution_count": 22,
      "outputs": [
        {
          "output_type": "stream",
          "name": "stdout",
          "text": [
            "  key  value1  value2\n",
            "0   A     1.0     NaN\n",
            "1   B     2.0     4.0\n",
            "2   C     3.0     5.0\n",
            "3   D     NaN     6.0\n"
          ]
        }
      ]
    },
    {
      "cell_type": "code",
      "source": [
        "left_merged = pd.merge(df1,df2, on='key', how = 'left')\n",
        "print(left_merged)"
      ],
      "metadata": {
        "colab": {
          "base_uri": "https://localhost:8080/"
        },
        "id": "zV9e_FCjU3X5",
        "outputId": "ef9688ed-b65e-45f6-f82c-8154d52dfc8e"
      },
      "execution_count": 23,
      "outputs": [
        {
          "output_type": "stream",
          "name": "stdout",
          "text": [
            "  key  value1  value2\n",
            "0   A       1     NaN\n",
            "1   B       2     4.0\n",
            "2   C       3     5.0\n"
          ]
        }
      ]
    },
    {
      "cell_type": "code",
      "source": [
        "right_merged = pd.merge(df1,df2, on='key', how = 'right')\n",
        "print(right_merged)"
      ],
      "metadata": {
        "colab": {
          "base_uri": "https://localhost:8080/"
        },
        "id": "0U0NHy4DU719",
        "outputId": "8dc720ff-aeba-4f7d-e8f6-1fae2330939e"
      },
      "execution_count": 24,
      "outputs": [
        {
          "output_type": "stream",
          "name": "stdout",
          "text": [
            "  key  value1  value2\n",
            "0   B     2.0       4\n",
            "1   C     3.0       5\n",
            "2   D     NaN       6\n"
          ]
        }
      ]
    },
    {
      "cell_type": "markdown",
      "source": [
        "# 22 Graficación"
      ],
      "metadata": {
        "id": "s6EFZiQOg5B8"
      }
    },
    {
      "cell_type": "code",
      "source": [
        "import pandas as pd\n",
        "import matplotlib.pyplot as plt\n",
        "\n",
        "# Leer el dataset de ventas desde un archivo CSV\n",
        "file_path = \"/content/online_retail.csv\"\n",
        "sales_data = pd.read_csv(file_path)\n",
        "\n",
        "# Convertir la columna 'InvoiceDate' a tipo datetime\n",
        "sales_data['InvoiceDate'] = pd.to_datetime(sales_data['InvoiceDate'])\n",
        "\n",
        "# Eliminar filas con valores faltantes en las columnas críticas\n",
        "sales_data.dropna(subset=['CustomerID', 'InvoiceDate'], inplace=True)\n",
        "\n",
        "# Crear una nueva columna 'TotalPrice'\n",
        "sales_data['TotalPrice'] = sales_data['Quantity'] * sales_data['UnitPrice']\n",
        "\n",
        "print(sales_data.head())\n"
      ],
      "metadata": {
        "colab": {
          "base_uri": "https://localhost:8080/"
        },
        "id": "i8kyQ5Ukg6W2",
        "outputId": "63d9b19e-0881-446b-83eb-d3665938cf0a"
      },
      "execution_count": null,
      "outputs": [
        {
          "output_type": "stream",
          "name": "stdout",
          "text": [
            "  InvoiceNo StockCode                          Description  Quantity  \\\n",
            "0    536365    85123A   WHITE HANGING HEART T-LIGHT HOLDER         6   \n",
            "1    536365     71053                  WHITE METAL LANTERN         6   \n",
            "2    536365    84406B       CREAM CUPID HEARTS COAT HANGER         8   \n",
            "3    536365    84029G  KNITTED UNION FLAG HOT WATER BOTTLE         6   \n",
            "4    536365    84029E       RED WOOLLY HOTTIE WHITE HEART.         6   \n",
            "\n",
            "          InvoiceDate  UnitPrice  CustomerID         Country  TotalPrice  \n",
            "0 2010-12-01 08:26:00       2.55     17850.0  United Kingdom       15.30  \n",
            "1 2010-12-01 08:26:00       3.39     17850.0  United Kingdom       20.34  \n",
            "2 2010-12-01 08:26:00       2.75     17850.0  United Kingdom       22.00  \n",
            "3 2010-12-01 08:26:00       3.39     17850.0  United Kingdom       20.34  \n",
            "4 2010-12-01 08:26:00       3.39     17850.0  United Kingdom       20.34  \n"
          ]
        }
      ]
    },
    {
      "cell_type": "code",
      "source": [
        "import matplotlib.pyplot as plt\n",
        "\n",
        "sales_by_country = sales_data.groupby('Country')['TotalPrice'].sum().sort_values(ascending=False)\n",
        "\n",
        "#print(sales_by_country)\n",
        "\n",
        "plt.figure(figsize=(12,8))\n",
        "sales_by_country.plot(kind='bar')\n",
        "plt.title('Ventas Totales por País')\n",
        "plt.xlabel('País')\n",
        "plt.ylabel('Total de Ventas')\n",
        "plt.show()"
      ],
      "metadata": {
        "colab": {
          "base_uri": "https://localhost:8080/",
          "height": 856
        },
        "id": "qxbewpfnigiS",
        "outputId": "ef3fdb44-3cc7-4879-a66e-39d1c7279209"
      },
      "execution_count": null,
      "outputs": [
        {
          "output_type": "display_data",
          "data": {
            "text/plain": [
              "<Figure size 1200x800 with 1 Axes>"
            ],
            "image/png": "[encoded data removed]"
          },
          "metadata": {}
        }
      ]
    },
    {
      "cell_type": "code",
      "source": [
        "quantity_by_product = sales_data.groupby('Description')['Quantity'].sum().sort_values(ascending = False).head(10)\n",
        "\n",
        "\n",
        "plt.figure(figsize=(12,8))\n",
        "quantity_by_product.plot(kind='bar')\n",
        "plt.title('Top 10 Productos Más Vendidos')\n",
        "plt.xlabel('Producto')\n",
        "plt.ylabel('Cantidad Vendida')\n",
        "plt.show()"
      ],
      "metadata": {
        "colab": {
          "base_uri": "https://localhost:8080/",
          "height": 991
        },
        "id": "YcLa9bMRj846",
        "outputId": "00b9aee4-1eea-4b66-f716-a16066e71362"
      },
      "execution_count": null,
      "outputs": [
        {
          "output_type": "display_data",
          "data": {
            "text/plain": [
              "<Figure size 1200x800 with 1 Axes>"
            ],
            "image/png": "[encoded data removed]"
          },
          "metadata": {}
        }
      ]
    },
    {
      "cell_type": "code",
      "source": [
        "# Identificar el producto más vendido\n",
        "top_product = sales_data.groupby('Description')['Quantity'].sum().idxmax()\n",
        "top_product_quantity = sales_data.groupby('Description')['Quantity'].sum().max()\n",
        "print(f\"El producto más vendido es {top_product} con un total de {top_product_quantity} unidades vendidas.\")"
      ],
      "metadata": {
        "colab": {
          "base_uri": "https://localhost:8080/"
        },
        "id": "b5uqLO3NkjeX",
        "outputId": "42104a1c-8145-4598-e057-b472d1d931db"
      },
      "execution_count": null,
      "outputs": [
        {
          "output_type": "stream",
          "name": "stdout",
          "text": [
            "El prodcuto más vendido es WORLD WAR 2 GLIDERS ASSTD DESIGNS con un total de 53215 unidades vendidas.\n"
          ]
        }
      ]
    },
    {
      "cell_type": "markdown",
      "source": [
        "# 23 Series de Tiempo"
      ],
      "metadata": {
        "id": "l4ZcuxZQmNPY"
      }
    },
    {
      "cell_type": "code",
      "source": [
        "import pandas as pd\n",
        "\n",
        "data = {\n",
        "    'Timestamp': ['2024-07-22 10:00:00', '2024-07-22 11:00:00', '2024-07-22 12:00:00'],\n",
        "    'Value': [100, 150, 200]\n",
        "}\n",
        "df = pd.DataFrame(data)\n",
        "\n",
        "print(df)"
      ],
      "metadata": {
        "colab": {
          "base_uri": "https://localhost:8080/"
        },
        "id": "Ggd0mM7LmPrB",
        "outputId": "56121595-bea9-47ae-b9a8-1a7e8be747f7"
      },
      "execution_count": null,
      "outputs": [
        {
          "output_type": "stream",
          "name": "stdout",
          "text": [
            "             Timestamp  Value\n",
            "0  2024-07-22 10:00:00    100\n",
            "1  2024-07-22 11:00:00    150\n",
            "2  2024-07-22 12:00:00    200\n"
          ]
        }
      ]
    },
    {
      "cell_type": "code",
      "source": [
        "#Convertir la columna a tipo datetime\n",
        "df['Timestamp'] = pd.to_datetime(df['Timestamp'])\n",
        "\n",
        "#Establecer Timestamp como índice\n",
        "df.set_index('Timestamp', inplace= True)\n",
        "print(df)"
      ],
      "metadata": {
        "colab": {
          "base_uri": "https://localhost:8080/"
        },
        "id": "Ph6bphMXpEYw",
        "outputId": "c19d7774-f735-40d6-be02-811e1c87e533"
      },
      "execution_count": null,
      "outputs": [
        {
          "output_type": "stream",
          "name": "stdout",
          "text": [
            "                     Value\n",
            "Timestamp                 \n",
            "2024-07-22 10:00:00    100\n",
            "2024-07-22 11:00:00    150\n",
            "2024-07-22 12:00:00    200\n"
          ]
        }
      ]
    },
    {
      "cell_type": "code",
      "source": [
        "sales_data['InvoiceDate'] = pd.to_datetime(sales_data['InvoiceDate'])\n",
        "\n",
        "#Establecer InvoiceDate como índice\n",
        "sales_data.set_index('InvoiceDate', inplace=True)\n",
        "print(sales_data.head())"
      ],
      "metadata": {
        "colab": {
          "base_uri": "https://localhost:8080/"
        },
        "id": "wCYZSwOZqjJU",
        "outputId": "841ff87d-b890-4c3e-d766-e5c732adf947"
      },
      "execution_count": null,
      "outputs": [
        {
          "output_type": "stream",
          "name": "stdout",
          "text": [
            "                    InvoiceNo StockCode                          Description  \\\n",
            "InvoiceDate                                                                    \n",
            "2010-12-01 08:26:00    536365    85123A   WHITE HANGING HEART T-LIGHT HOLDER   \n",
            "2010-12-01 08:26:00    536365     71053                  WHITE METAL LANTERN   \n",
            "2010-12-01 08:26:00    536365    84406B       CREAM CUPID HEARTS COAT HANGER   \n",
            "2010-12-01 08:26:00    536365    84029G  KNITTED UNION FLAG HOT WATER BOTTLE   \n",
            "2010-12-01 08:26:00    536365    84029E       RED WOOLLY HOTTIE WHITE HEART.   \n",
            "\n",
            "                     Quantity  UnitPrice  CustomerID         Country  \\\n",
            "InvoiceDate                                                            \n",
            "2010-12-01 08:26:00         6       2.55     17850.0  United Kingdom   \n",
            "2010-12-01 08:26:00         6       3.39     17850.0  United Kingdom   \n",
            "2010-12-01 08:26:00         8       2.75     17850.0  United Kingdom   \n",
            "2010-12-01 08:26:00         6       3.39     17850.0  United Kingdom   \n",
            "2010-12-01 08:26:00         6       3.39     17850.0  United Kingdom   \n",
            "\n",
            "                     TotalPrice  \n",
            "InvoiceDate                      \n",
            "2010-12-01 08:26:00       15.30  \n",
            "2010-12-01 08:26:00       20.34  \n",
            "2010-12-01 08:26:00       22.00  \n",
            "2010-12-01 08:26:00       20.34  \n",
            "2010-12-01 08:26:00       20.34  \n"
          ]
        }
      ]
    },
    {
      "cell_type": "code",
      "source": [
        "monthly_sales = sales_data['Quantity'].resample('M').sum()\n",
        "print(monthly_sales)"
      ],
      "metadata": {
        "colab": {
          "base_uri": "https://localhost:8080/"
        },
        "id": "V43a_nctreO6",
        "outputId": "fd035cd9-149f-41cf-c1c9-09e97ea6a4b5"
      },
      "execution_count": null,
      "outputs": [
        {
          "output_type": "stream",
          "name": "stdout",
          "text": [
            "InvoiceDate\n",
            "2010-12-31    296362\n",
            "2011-01-31    269379\n",
            "2011-02-28    262833\n",
            "2011-03-31    344012\n",
            "2011-04-30    278585\n",
            "2011-05-31    367852\n",
            "2011-06-30    356922\n",
            "2011-07-31    363418\n",
            "2011-08-31    386612\n",
            "2011-09-30    537496\n",
            "2011-10-31    569666\n",
            "2011-11-30    669915\n",
            "2011-12-31    203836\n",
            "Freq: M, Name: Quantity, dtype: int64\n"
          ]
        }
      ]
    },
    {
      "cell_type": "code",
      "source": [
        "max_sales_month = monthly_sales.idxmax()\n",
        "max_sales_value = monthly_sales.max()\n",
        "\n",
        "print(f\"El mes con mayores ventas es {max_sales_month.strftime('%B %Y')} con un total de {max_sales_value} unidades vendidas.\")"
      ],
      "metadata": {
        "colab": {
          "base_uri": "https://localhost:8080/"
        },
        "id": "Ryeov1tRsr53",
        "outputId": "198ac5b5-a2d6-4bfd-c66b-9b3b9a110436"
      },
      "execution_count": null,
      "outputs": [
        {
          "output_type": "stream",
          "name": "stdout",
          "text": [
            "El mes con mayores ventas es November 2011 con un total de 669915 unidades vendidas.\n"
          ]
        }
      ]
    },
    {
      "cell_type": "code",
      "source": [
        "import matplotlib.pyplot as plt\n",
        "\n",
        "plt.figure(figsize=(12,6))\n",
        "monthly_sales.plot(kind='line')\n",
        "plt.title('Ventas Mensuales')\n",
        "plt.xlabel('Mes')\n",
        "plt.ylabel('Cantidad Vendida')\n",
        "plt.show()"
      ],
      "metadata": {
        "colab": {
          "base_uri": "https://localhost:8080/",
          "height": 580
        },
        "id": "vlAuCA_jtOr1",
        "outputId": "8d431632-3d28-457b-d268-f907e7d02f4d"
      },
      "execution_count": null,
      "outputs": [
        {
          "output_type": "display_data",
          "data": {
            "text/plain": [
              "<Figure size 1200x600 with 1 Axes>"
            ],
            "image/png": "[encoded data removed]"
          },
          "metadata": {}
        }
      ]
    }
  ]
}